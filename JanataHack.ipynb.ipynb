{
 "cells": [
  {
   "cell_type": "code",
   "execution_count": 1,
   "metadata": {},
   "outputs": [],
   "source": [
    "import numpy as np\n",
    "import pandas as pd\n",
    "import matplotlib.pyplot as plt\n",
    "import seaborn as sns"
   ]
  },
  {
   "cell_type": "code",
   "execution_count": 2,
   "metadata": {},
   "outputs": [],
   "source": [
    "from sklearn.preprocessing import MinMaxScaler\n",
    "from sklearn.linear_model import LogisticRegression\n",
    "import statsmodels.api as sm\n",
    "from sklearn.metrics import mean_absolute_error, r2_score"
   ]
  },
  {
   "cell_type": "markdown",
   "metadata": {},
   "source": [
    "# Train data Pre-Processing"
   ]
  },
  {
   "cell_type": "code",
   "execution_count": 3,
   "metadata": {},
   "outputs": [],
   "source": [
    "rawData=pd.read_csv(\"D:/My files/Projects/Hackathon/Train_hMYJ020/train.csv\")"
   ]
  },
  {
   "cell_type": "code",
   "execution_count": 4,
   "metadata": {},
   "outputs": [
    {
     "data": {
      "text/html": [
       "<div>\n",
       "<style scoped>\n",
       "    .dataframe tbody tr th:only-of-type {\n",
       "        vertical-align: middle;\n",
       "    }\n",
       "\n",
       "    .dataframe tbody tr th {\n",
       "        vertical-align: top;\n",
       "    }\n",
       "\n",
       "    .dataframe thead th {\n",
       "        text-align: right;\n",
       "    }\n",
       "</style>\n",
       "<table border=\"1\" class=\"dataframe\">\n",
       "  <thead>\n",
       "    <tr style=\"text-align: right;\">\n",
       "      <th></th>\n",
       "      <th>case_id</th>\n",
       "      <th>Hospital_code</th>\n",
       "      <th>Hospital_type_code</th>\n",
       "      <th>City_Code_Hospital</th>\n",
       "      <th>Hospital_region_code</th>\n",
       "      <th>Available Extra Rooms in Hospital</th>\n",
       "      <th>Department</th>\n",
       "      <th>Ward_Type</th>\n",
       "      <th>Ward_Facility_Code</th>\n",
       "      <th>Bed Grade</th>\n",
       "      <th>patientid</th>\n",
       "      <th>City_Code_Patient</th>\n",
       "      <th>Type of Admission</th>\n",
       "      <th>Severity of Illness</th>\n",
       "      <th>Visitors with Patient</th>\n",
       "      <th>Age</th>\n",
       "      <th>Admission_Deposit</th>\n",
       "      <th>Stay</th>\n",
       "    </tr>\n",
       "  </thead>\n",
       "  <tbody>\n",
       "    <tr>\n",
       "      <th>0</th>\n",
       "      <td>1</td>\n",
       "      <td>8</td>\n",
       "      <td>c</td>\n",
       "      <td>3</td>\n",
       "      <td>Z</td>\n",
       "      <td>3</td>\n",
       "      <td>radiotherapy</td>\n",
       "      <td>R</td>\n",
       "      <td>F</td>\n",
       "      <td>2.0</td>\n",
       "      <td>31397</td>\n",
       "      <td>7.0</td>\n",
       "      <td>Emergency</td>\n",
       "      <td>Extreme</td>\n",
       "      <td>2</td>\n",
       "      <td>51-60</td>\n",
       "      <td>4911.0</td>\n",
       "      <td>0-10</td>\n",
       "    </tr>\n",
       "    <tr>\n",
       "      <th>1</th>\n",
       "      <td>2</td>\n",
       "      <td>2</td>\n",
       "      <td>c</td>\n",
       "      <td>5</td>\n",
       "      <td>Z</td>\n",
       "      <td>2</td>\n",
       "      <td>radiotherapy</td>\n",
       "      <td>S</td>\n",
       "      <td>F</td>\n",
       "      <td>2.0</td>\n",
       "      <td>31397</td>\n",
       "      <td>7.0</td>\n",
       "      <td>Trauma</td>\n",
       "      <td>Extreme</td>\n",
       "      <td>2</td>\n",
       "      <td>51-60</td>\n",
       "      <td>5954.0</td>\n",
       "      <td>41-50</td>\n",
       "    </tr>\n",
       "    <tr>\n",
       "      <th>2</th>\n",
       "      <td>3</td>\n",
       "      <td>10</td>\n",
       "      <td>e</td>\n",
       "      <td>1</td>\n",
       "      <td>X</td>\n",
       "      <td>2</td>\n",
       "      <td>anesthesia</td>\n",
       "      <td>S</td>\n",
       "      <td>E</td>\n",
       "      <td>2.0</td>\n",
       "      <td>31397</td>\n",
       "      <td>7.0</td>\n",
       "      <td>Trauma</td>\n",
       "      <td>Extreme</td>\n",
       "      <td>2</td>\n",
       "      <td>51-60</td>\n",
       "      <td>4745.0</td>\n",
       "      <td>31-40</td>\n",
       "    </tr>\n",
       "    <tr>\n",
       "      <th>3</th>\n",
       "      <td>4</td>\n",
       "      <td>26</td>\n",
       "      <td>b</td>\n",
       "      <td>2</td>\n",
       "      <td>Y</td>\n",
       "      <td>2</td>\n",
       "      <td>radiotherapy</td>\n",
       "      <td>R</td>\n",
       "      <td>D</td>\n",
       "      <td>2.0</td>\n",
       "      <td>31397</td>\n",
       "      <td>7.0</td>\n",
       "      <td>Trauma</td>\n",
       "      <td>Extreme</td>\n",
       "      <td>2</td>\n",
       "      <td>51-60</td>\n",
       "      <td>7272.0</td>\n",
       "      <td>41-50</td>\n",
       "    </tr>\n",
       "    <tr>\n",
       "      <th>4</th>\n",
       "      <td>5</td>\n",
       "      <td>26</td>\n",
       "      <td>b</td>\n",
       "      <td>2</td>\n",
       "      <td>Y</td>\n",
       "      <td>2</td>\n",
       "      <td>radiotherapy</td>\n",
       "      <td>S</td>\n",
       "      <td>D</td>\n",
       "      <td>2.0</td>\n",
       "      <td>31397</td>\n",
       "      <td>7.0</td>\n",
       "      <td>Trauma</td>\n",
       "      <td>Extreme</td>\n",
       "      <td>2</td>\n",
       "      <td>51-60</td>\n",
       "      <td>5558.0</td>\n",
       "      <td>41-50</td>\n",
       "    </tr>\n",
       "  </tbody>\n",
       "</table>\n",
       "</div>"
      ],
      "text/plain": [
       "   case_id  Hospital_code Hospital_type_code  City_Code_Hospital  \\\n",
       "0        1              8                  c                   3   \n",
       "1        2              2                  c                   5   \n",
       "2        3             10                  e                   1   \n",
       "3        4             26                  b                   2   \n",
       "4        5             26                  b                   2   \n",
       "\n",
       "  Hospital_region_code  Available Extra Rooms in Hospital    Department  \\\n",
       "0                    Z                                  3  radiotherapy   \n",
       "1                    Z                                  2  radiotherapy   \n",
       "2                    X                                  2    anesthesia   \n",
       "3                    Y                                  2  radiotherapy   \n",
       "4                    Y                                  2  radiotherapy   \n",
       "\n",
       "  Ward_Type Ward_Facility_Code  Bed Grade  patientid  City_Code_Patient  \\\n",
       "0         R                  F        2.0      31397                7.0   \n",
       "1         S                  F        2.0      31397                7.0   \n",
       "2         S                  E        2.0      31397                7.0   \n",
       "3         R                  D        2.0      31397                7.0   \n",
       "4         S                  D        2.0      31397                7.0   \n",
       "\n",
       "  Type of Admission Severity of Illness  Visitors with Patient    Age  \\\n",
       "0         Emergency             Extreme                      2  51-60   \n",
       "1            Trauma             Extreme                      2  51-60   \n",
       "2            Trauma             Extreme                      2  51-60   \n",
       "3            Trauma             Extreme                      2  51-60   \n",
       "4            Trauma             Extreme                      2  51-60   \n",
       "\n",
       "   Admission_Deposit   Stay  \n",
       "0             4911.0   0-10  \n",
       "1             5954.0  41-50  \n",
       "2             4745.0  31-40  \n",
       "3             7272.0  41-50  \n",
       "4             5558.0  41-50  "
      ]
     },
     "execution_count": 4,
     "metadata": {},
     "output_type": "execute_result"
    }
   ],
   "source": [
    "rawData.head()"
   ]
  },
  {
   "cell_type": "code",
   "execution_count": 5,
   "metadata": {},
   "outputs": [
    {
     "name": "stdout",
     "output_type": "stream",
     "text": [
      "<class 'pandas.core.frame.DataFrame'>\n",
      "RangeIndex: 318438 entries, 0 to 318437\n",
      "Data columns (total 18 columns):\n",
      " #   Column                             Non-Null Count   Dtype  \n",
      "---  ------                             --------------   -----  \n",
      " 0   case_id                            318438 non-null  int64  \n",
      " 1   Hospital_code                      318438 non-null  int64  \n",
      " 2   Hospital_type_code                 318438 non-null  object \n",
      " 3   City_Code_Hospital                 318438 non-null  int64  \n",
      " 4   Hospital_region_code               318438 non-null  object \n",
      " 5   Available Extra Rooms in Hospital  318438 non-null  int64  \n",
      " 6   Department                         318438 non-null  object \n",
      " 7   Ward_Type                          318438 non-null  object \n",
      " 8   Ward_Facility_Code                 318438 non-null  object \n",
      " 9   Bed Grade                          318325 non-null  float64\n",
      " 10  patientid                          318438 non-null  int64  \n",
      " 11  City_Code_Patient                  313906 non-null  float64\n",
      " 12  Type of Admission                  318438 non-null  object \n",
      " 13  Severity of Illness                318438 non-null  object \n",
      " 14  Visitors with Patient              318438 non-null  int64  \n",
      " 15  Age                                318438 non-null  object \n",
      " 16  Admission_Deposit                  318438 non-null  float64\n",
      " 17  Stay                               318438 non-null  object \n",
      "dtypes: float64(3), int64(6), object(9)\n",
      "memory usage: 43.7+ MB\n"
     ]
    }
   ],
   "source": [
    "rawData.info()"
   ]
  },
  {
   "cell_type": "code",
   "execution_count": 6,
   "metadata": {},
   "outputs": [
    {
     "data": {
      "text/plain": [
       "21-30                 87491\n",
       "11-20                 78139\n",
       "31-40                 55159\n",
       "51-60                 35018\n",
       "0-10                  23604\n",
       "41-50                 11743\n",
       "71-80                 10254\n",
       "More than 100 Days     6683\n",
       "81-90                  4838\n",
       "91-100                 2765\n",
       "61-70                  2744\n",
       "Name: Stay, dtype: int64"
      ]
     },
     "execution_count": 6,
     "metadata": {},
     "output_type": "execute_result"
    }
   ],
   "source": [
    "rawData['Stay'].value_counts()"
   ]
  },
  {
   "cell_type": "code",
   "execution_count": 7,
   "metadata": {},
   "outputs": [
    {
     "data": {
      "text/plain": [
       "41-50     63749\n",
       "31-40     63639\n",
       "51-60     48514\n",
       "21-30     40843\n",
       "71-80     35792\n",
       "61-70     33687\n",
       "11-20     16768\n",
       "81-90      7890\n",
       "0-10       6254\n",
       "91-100     1302\n",
       "Name: Age, dtype: int64"
      ]
     },
     "execution_count": 7,
     "metadata": {},
     "output_type": "execute_result"
    }
   ],
   "source": [
    "rawData['Age'].value_counts()"
   ]
  },
  {
   "cell_type": "code",
   "execution_count": 8,
   "metadata": {},
   "outputs": [
    {
     "data": {
      "text/plain": [
       "case_id                                 0\n",
       "Hospital_code                           0\n",
       "Hospital_type_code                      0\n",
       "City_Code_Hospital                      0\n",
       "Hospital_region_code                    0\n",
       "Available Extra Rooms in Hospital       0\n",
       "Department                              0\n",
       "Ward_Type                               0\n",
       "Ward_Facility_Code                      0\n",
       "Bed Grade                             113\n",
       "patientid                               0\n",
       "City_Code_Patient                    4532\n",
       "Type of Admission                       0\n",
       "Severity of Illness                     0\n",
       "Visitors with Patient                   0\n",
       "Age                                     0\n",
       "Admission_Deposit                       0\n",
       "Stay                                    0\n",
       "dtype: int64"
      ]
     },
     "execution_count": 8,
     "metadata": {},
     "output_type": "execute_result"
    }
   ],
   "source": [
    "rawData.isnull().sum()"
   ]
  },
  {
   "cell_type": "code",
   "execution_count": 9,
   "metadata": {},
   "outputs": [],
   "source": [
    "rawData=rawData.dropna(axis=0,subset=['City_Code_Patient'])"
   ]
  },
  {
   "cell_type": "code",
   "execution_count": 10,
   "metadata": {},
   "outputs": [],
   "source": [
    "rawData=rawData.dropna(axis=0,subset=['Bed Grade'])"
   ]
  },
  {
   "cell_type": "code",
   "execution_count": 11,
   "metadata": {},
   "outputs": [
    {
     "data": {
      "text/plain": [
       "case_id                              0\n",
       "Hospital_code                        0\n",
       "Hospital_type_code                   0\n",
       "City_Code_Hospital                   0\n",
       "Hospital_region_code                 0\n",
       "Available Extra Rooms in Hospital    0\n",
       "Department                           0\n",
       "Ward_Type                            0\n",
       "Ward_Facility_Code                   0\n",
       "Bed Grade                            0\n",
       "patientid                            0\n",
       "City_Code_Patient                    0\n",
       "Type of Admission                    0\n",
       "Severity of Illness                  0\n",
       "Visitors with Patient                0\n",
       "Age                                  0\n",
       "Admission_Deposit                    0\n",
       "Stay                                 0\n",
       "dtype: int64"
      ]
     },
     "execution_count": 11,
     "metadata": {},
     "output_type": "execute_result"
    }
   ],
   "source": [
    "rawData.isnull().sum()"
   ]
  },
  {
   "cell_type": "code",
   "execution_count": 12,
   "metadata": {},
   "outputs": [
    {
     "name": "stdout",
     "output_type": "stream",
     "text": [
      "No of Duplicate Values 0\n"
     ]
    }
   ],
   "source": [
    "x = rawData.duplicated().sum()\n",
    "print(\"No of Duplicate Values\", x)"
   ]
  },
  {
   "cell_type": "code",
   "execution_count": 13,
   "metadata": {},
   "outputs": [],
   "source": [
    "rawData=rawData.rename(columns={\"Available Extra Rooms in Hospital\": \"Available_Rooms_in_Hspl\",\n",
    "                                \"Bed Grade\":\"Bed_Grade\",\"Type of Admission\":\"Type_of_Admission\",\n",
    "                                \"Severity of Illness\":\"Severity_of_Illness\",\"Visitors with Patient\":\"Visitors_with_Patient\"})"
   ]
  },
  {
   "cell_type": "code",
   "execution_count": 14,
   "metadata": {},
   "outputs": [
    {
     "name": "stdout",
     "output_type": "stream",
     "text": [
      "<class 'pandas.core.frame.DataFrame'>\n",
      "Int64Index: 313793 entries, 0 to 318437\n",
      "Data columns (total 18 columns):\n",
      " #   Column                   Non-Null Count   Dtype  \n",
      "---  ------                   --------------   -----  \n",
      " 0   case_id                  313793 non-null  int64  \n",
      " 1   Hospital_code            313793 non-null  int64  \n",
      " 2   Hospital_type_code       313793 non-null  object \n",
      " 3   City_Code_Hospital       313793 non-null  int64  \n",
      " 4   Hospital_region_code     313793 non-null  object \n",
      " 5   Available_Rooms_in_Hspl  313793 non-null  int64  \n",
      " 6   Department               313793 non-null  object \n",
      " 7   Ward_Type                313793 non-null  object \n",
      " 8   Ward_Facility_Code       313793 non-null  object \n",
      " 9   Bed_Grade                313793 non-null  float64\n",
      " 10  patientid                313793 non-null  int64  \n",
      " 11  City_Code_Patient        313793 non-null  float64\n",
      " 12  Type_of_Admission        313793 non-null  object \n",
      " 13  Severity_of_Illness      313793 non-null  object \n",
      " 14  Visitors_with_Patient    313793 non-null  int64  \n",
      " 15  Age                      313793 non-null  object \n",
      " 16  Admission_Deposit        313793 non-null  float64\n",
      " 17  Stay                     313793 non-null  object \n",
      "dtypes: float64(3), int64(6), object(9)\n",
      "memory usage: 45.5+ MB\n"
     ]
    }
   ],
   "source": [
    "rawData.info()"
   ]
  },
  {
   "cell_type": "code",
   "execution_count": 15,
   "metadata": {},
   "outputs": [],
   "source": [
    "rawData['Hospital_type_code']=rawData['Hospital_type_code'].astype('category')\n",
    "rawData['Hospital_region_code']=rawData['Hospital_region_code'].astype('category')\n",
    "rawData['Department']=rawData['Department'].astype('category')\n",
    "rawData['Ward_Type']=rawData['Ward_Type'].astype('category')\n",
    "rawData['Ward_Facility_Code']=rawData['Ward_Facility_Code'].astype('category')\n",
    "rawData['Type_of_Admission']=rawData['Type_of_Admission'].astype('category')\n",
    "rawData['Severity_of_Illness']=rawData['Severity_of_Illness'].astype('category')\n",
    "rawData['Age']=rawData['Age'].astype('category')\n",
    "rawData['Stay']=rawData['Stay'].astype('category')"
   ]
  },
  {
   "cell_type": "code",
   "execution_count": 16,
   "metadata": {},
   "outputs": [
    {
     "data": {
      "text/plain": [
       "21-30                 86316\n",
       "11-20                 77095\n",
       "31-40                 54312\n",
       "51-60                 34463\n",
       "0-10                  23250\n",
       "41-50                 11541\n",
       "71-80                 10096\n",
       "More than 100 Days     6548\n",
       "81-90                  4761\n",
       "91-100                 2713\n",
       "61-70                  2698\n",
       "Name: Stay, dtype: int64"
      ]
     },
     "execution_count": 16,
     "metadata": {},
     "output_type": "execute_result"
    }
   ],
   "source": [
    "rawData['Stay'].value_counts()"
   ]
  },
  {
   "cell_type": "code",
   "execution_count": 17,
   "metadata": {},
   "outputs": [],
   "source": [
    "rawData['Hospital_type_code']=rawData['Hospital_type_code'].cat.codes\n",
    "rawData['Hospital_region_code']=rawData['Hospital_region_code'].cat.codes\n",
    "rawData['Department']=rawData['Department'].cat.codes\n",
    "rawData['Ward_Type']=rawData['Ward_Type'].cat.codes\n",
    "rawData['Ward_Facility_Code']=rawData['Ward_Facility_Code'].cat.codes\n",
    "rawData['Type_of_Admission']=rawData['Type_of_Admission'].cat.codes\n",
    "rawData['Severity_of_Illness']=rawData['Severity_of_Illness'].cat.codes\n",
    "rawData['Age']=rawData['Age'].cat.codes\n",
    "rawData['Stay']=rawData['Stay'].cat.codes"
   ]
  },
  {
   "cell_type": "code",
   "execution_count": 18,
   "metadata": {},
   "outputs": [
    {
     "data": {
      "text/plain": [
       "2     86316\n",
       "1     77095\n",
       "3     54312\n",
       "5     34463\n",
       "0     23250\n",
       "4     11541\n",
       "7     10096\n",
       "10     6548\n",
       "8      4761\n",
       "9      2713\n",
       "6      2698\n",
       "Name: Stay, dtype: int64"
      ]
     },
     "execution_count": 18,
     "metadata": {},
     "output_type": "execute_result"
    }
   ],
   "source": [
    "rawData['Stay'].value_counts()"
   ]
  },
  {
   "cell_type": "code",
   "execution_count": 19,
   "metadata": {},
   "outputs": [
    {
     "data": {
      "text/html": [
       "<div>\n",
       "<style scoped>\n",
       "    .dataframe tbody tr th:only-of-type {\n",
       "        vertical-align: middle;\n",
       "    }\n",
       "\n",
       "    .dataframe tbody tr th {\n",
       "        vertical-align: top;\n",
       "    }\n",
       "\n",
       "    .dataframe thead th {\n",
       "        text-align: right;\n",
       "    }\n",
       "</style>\n",
       "<table border=\"1\" class=\"dataframe\">\n",
       "  <thead>\n",
       "    <tr style=\"text-align: right;\">\n",
       "      <th></th>\n",
       "      <th>case_id</th>\n",
       "      <th>Hospital_code</th>\n",
       "      <th>Hospital_type_code</th>\n",
       "      <th>City_Code_Hospital</th>\n",
       "      <th>Hospital_region_code</th>\n",
       "      <th>Available_Rooms_in_Hspl</th>\n",
       "      <th>Department</th>\n",
       "      <th>Ward_Type</th>\n",
       "      <th>Ward_Facility_Code</th>\n",
       "      <th>Bed_Grade</th>\n",
       "      <th>patientid</th>\n",
       "      <th>City_Code_Patient</th>\n",
       "      <th>Type_of_Admission</th>\n",
       "      <th>Severity_of_Illness</th>\n",
       "      <th>Visitors_with_Patient</th>\n",
       "      <th>Age</th>\n",
       "      <th>Admission_Deposit</th>\n",
       "      <th>Stay</th>\n",
       "    </tr>\n",
       "  </thead>\n",
       "  <tbody>\n",
       "    <tr>\n",
       "      <th>0</th>\n",
       "      <td>1</td>\n",
       "      <td>8</td>\n",
       "      <td>2</td>\n",
       "      <td>3</td>\n",
       "      <td>2</td>\n",
       "      <td>3</td>\n",
       "      <td>3</td>\n",
       "      <td>2</td>\n",
       "      <td>5</td>\n",
       "      <td>2.0</td>\n",
       "      <td>31397</td>\n",
       "      <td>7.0</td>\n",
       "      <td>0</td>\n",
       "      <td>0</td>\n",
       "      <td>2</td>\n",
       "      <td>5</td>\n",
       "      <td>4911.0</td>\n",
       "      <td>0</td>\n",
       "    </tr>\n",
       "    <tr>\n",
       "      <th>1</th>\n",
       "      <td>2</td>\n",
       "      <td>2</td>\n",
       "      <td>2</td>\n",
       "      <td>5</td>\n",
       "      <td>2</td>\n",
       "      <td>2</td>\n",
       "      <td>3</td>\n",
       "      <td>3</td>\n",
       "      <td>5</td>\n",
       "      <td>2.0</td>\n",
       "      <td>31397</td>\n",
       "      <td>7.0</td>\n",
       "      <td>1</td>\n",
       "      <td>0</td>\n",
       "      <td>2</td>\n",
       "      <td>5</td>\n",
       "      <td>5954.0</td>\n",
       "      <td>4</td>\n",
       "    </tr>\n",
       "    <tr>\n",
       "      <th>2</th>\n",
       "      <td>3</td>\n",
       "      <td>10</td>\n",
       "      <td>4</td>\n",
       "      <td>1</td>\n",
       "      <td>0</td>\n",
       "      <td>2</td>\n",
       "      <td>1</td>\n",
       "      <td>3</td>\n",
       "      <td>4</td>\n",
       "      <td>2.0</td>\n",
       "      <td>31397</td>\n",
       "      <td>7.0</td>\n",
       "      <td>1</td>\n",
       "      <td>0</td>\n",
       "      <td>2</td>\n",
       "      <td>5</td>\n",
       "      <td>4745.0</td>\n",
       "      <td>3</td>\n",
       "    </tr>\n",
       "    <tr>\n",
       "      <th>3</th>\n",
       "      <td>4</td>\n",
       "      <td>26</td>\n",
       "      <td>1</td>\n",
       "      <td>2</td>\n",
       "      <td>1</td>\n",
       "      <td>2</td>\n",
       "      <td>3</td>\n",
       "      <td>2</td>\n",
       "      <td>3</td>\n",
       "      <td>2.0</td>\n",
       "      <td>31397</td>\n",
       "      <td>7.0</td>\n",
       "      <td>1</td>\n",
       "      <td>0</td>\n",
       "      <td>2</td>\n",
       "      <td>5</td>\n",
       "      <td>7272.0</td>\n",
       "      <td>4</td>\n",
       "    </tr>\n",
       "    <tr>\n",
       "      <th>4</th>\n",
       "      <td>5</td>\n",
       "      <td>26</td>\n",
       "      <td>1</td>\n",
       "      <td>2</td>\n",
       "      <td>1</td>\n",
       "      <td>2</td>\n",
       "      <td>3</td>\n",
       "      <td>3</td>\n",
       "      <td>3</td>\n",
       "      <td>2.0</td>\n",
       "      <td>31397</td>\n",
       "      <td>7.0</td>\n",
       "      <td>1</td>\n",
       "      <td>0</td>\n",
       "      <td>2</td>\n",
       "      <td>5</td>\n",
       "      <td>5558.0</td>\n",
       "      <td>4</td>\n",
       "    </tr>\n",
       "  </tbody>\n",
       "</table>\n",
       "</div>"
      ],
      "text/plain": [
       "   case_id  Hospital_code  Hospital_type_code  City_Code_Hospital  \\\n",
       "0        1              8                   2                   3   \n",
       "1        2              2                   2                   5   \n",
       "2        3             10                   4                   1   \n",
       "3        4             26                   1                   2   \n",
       "4        5             26                   1                   2   \n",
       "\n",
       "   Hospital_region_code  Available_Rooms_in_Hspl  Department  Ward_Type  \\\n",
       "0                     2                        3           3          2   \n",
       "1                     2                        2           3          3   \n",
       "2                     0                        2           1          3   \n",
       "3                     1                        2           3          2   \n",
       "4                     1                        2           3          3   \n",
       "\n",
       "   Ward_Facility_Code  Bed_Grade  patientid  City_Code_Patient  \\\n",
       "0                   5        2.0      31397                7.0   \n",
       "1                   5        2.0      31397                7.0   \n",
       "2                   4        2.0      31397                7.0   \n",
       "3                   3        2.0      31397                7.0   \n",
       "4                   3        2.0      31397                7.0   \n",
       "\n",
       "   Type_of_Admission  Severity_of_Illness  Visitors_with_Patient  Age  \\\n",
       "0                  0                    0                      2    5   \n",
       "1                  1                    0                      2    5   \n",
       "2                  1                    0                      2    5   \n",
       "3                  1                    0                      2    5   \n",
       "4                  1                    0                      2    5   \n",
       "\n",
       "   Admission_Deposit  Stay  \n",
       "0             4911.0     0  \n",
       "1             5954.0     4  \n",
       "2             4745.0     3  \n",
       "3             7272.0     4  \n",
       "4             5558.0     4  "
      ]
     },
     "execution_count": 19,
     "metadata": {},
     "output_type": "execute_result"
    }
   ],
   "source": [
    "rawData.head()"
   ]
  },
  {
   "cell_type": "code",
   "execution_count": 20,
   "metadata": {},
   "outputs": [],
   "source": [
    "rawData.to_csv('D:/My files/Projects/Hackathon/Train_hMYJ020/train1.csv')"
   ]
  },
  {
   "cell_type": "markdown",
   "metadata": {},
   "source": [
    "# Test data Pre-Processing"
   ]
  },
  {
   "cell_type": "code",
   "execution_count": 21,
   "metadata": {},
   "outputs": [
    {
     "data": {
      "text/html": [
       "<div>\n",
       "<style scoped>\n",
       "    .dataframe tbody tr th:only-of-type {\n",
       "        vertical-align: middle;\n",
       "    }\n",
       "\n",
       "    .dataframe tbody tr th {\n",
       "        vertical-align: top;\n",
       "    }\n",
       "\n",
       "    .dataframe thead th {\n",
       "        text-align: right;\n",
       "    }\n",
       "</style>\n",
       "<table border=\"1\" class=\"dataframe\">\n",
       "  <thead>\n",
       "    <tr style=\"text-align: right;\">\n",
       "      <th></th>\n",
       "      <th>case_id</th>\n",
       "      <th>Hospital_code</th>\n",
       "      <th>Hospital_type_code</th>\n",
       "      <th>City_Code_Hospital</th>\n",
       "      <th>Hospital_region_code</th>\n",
       "      <th>Available Extra Rooms in Hospital</th>\n",
       "      <th>Department</th>\n",
       "      <th>Ward_Type</th>\n",
       "      <th>Ward_Facility_Code</th>\n",
       "      <th>Bed Grade</th>\n",
       "      <th>patientid</th>\n",
       "      <th>City_Code_Patient</th>\n",
       "      <th>Type of Admission</th>\n",
       "      <th>Severity of Illness</th>\n",
       "      <th>Visitors with Patient</th>\n",
       "      <th>Age</th>\n",
       "      <th>Admission_Deposit</th>\n",
       "      <th>Unnamed: 17</th>\n",
       "    </tr>\n",
       "  </thead>\n",
       "  <tbody>\n",
       "    <tr>\n",
       "      <th>0</th>\n",
       "      <td>318439</td>\n",
       "      <td>21</td>\n",
       "      <td>c</td>\n",
       "      <td>3</td>\n",
       "      <td>Z</td>\n",
       "      <td>3</td>\n",
       "      <td>gynecology</td>\n",
       "      <td>S</td>\n",
       "      <td>A</td>\n",
       "      <td>2.0</td>\n",
       "      <td>17006</td>\n",
       "      <td>2.0</td>\n",
       "      <td>Emergency</td>\n",
       "      <td>Moderate</td>\n",
       "      <td>2</td>\n",
       "      <td>71-80</td>\n",
       "      <td>3095</td>\n",
       "      <td>NaN</td>\n",
       "    </tr>\n",
       "    <tr>\n",
       "      <th>1</th>\n",
       "      <td>318440</td>\n",
       "      <td>29</td>\n",
       "      <td>a</td>\n",
       "      <td>4</td>\n",
       "      <td>X</td>\n",
       "      <td>2</td>\n",
       "      <td>gynecology</td>\n",
       "      <td>S</td>\n",
       "      <td>F</td>\n",
       "      <td>2.0</td>\n",
       "      <td>17006</td>\n",
       "      <td>2.0</td>\n",
       "      <td>Trauma</td>\n",
       "      <td>Moderate</td>\n",
       "      <td>4</td>\n",
       "      <td>71-80</td>\n",
       "      <td>4018</td>\n",
       "      <td>NaN</td>\n",
       "    </tr>\n",
       "    <tr>\n",
       "      <th>2</th>\n",
       "      <td>318441</td>\n",
       "      <td>26</td>\n",
       "      <td>b</td>\n",
       "      <td>2</td>\n",
       "      <td>Y</td>\n",
       "      <td>3</td>\n",
       "      <td>gynecology</td>\n",
       "      <td>Q</td>\n",
       "      <td>D</td>\n",
       "      <td>4.0</td>\n",
       "      <td>17006</td>\n",
       "      <td>2.0</td>\n",
       "      <td>Emergency</td>\n",
       "      <td>Moderate</td>\n",
       "      <td>3</td>\n",
       "      <td>71-80</td>\n",
       "      <td>4492</td>\n",
       "      <td>NaN</td>\n",
       "    </tr>\n",
       "    <tr>\n",
       "      <th>3</th>\n",
       "      <td>318442</td>\n",
       "      <td>6</td>\n",
       "      <td>a</td>\n",
       "      <td>6</td>\n",
       "      <td>X</td>\n",
       "      <td>3</td>\n",
       "      <td>gynecology</td>\n",
       "      <td>Q</td>\n",
       "      <td>F</td>\n",
       "      <td>2.0</td>\n",
       "      <td>17006</td>\n",
       "      <td>2.0</td>\n",
       "      <td>Trauma</td>\n",
       "      <td>Moderate</td>\n",
       "      <td>3</td>\n",
       "      <td>71-80</td>\n",
       "      <td>4173</td>\n",
       "      <td>NaN</td>\n",
       "    </tr>\n",
       "    <tr>\n",
       "      <th>4</th>\n",
       "      <td>318443</td>\n",
       "      <td>28</td>\n",
       "      <td>b</td>\n",
       "      <td>11</td>\n",
       "      <td>X</td>\n",
       "      <td>2</td>\n",
       "      <td>gynecology</td>\n",
       "      <td>R</td>\n",
       "      <td>F</td>\n",
       "      <td>2.0</td>\n",
       "      <td>17006</td>\n",
       "      <td>2.0</td>\n",
       "      <td>Trauma</td>\n",
       "      <td>Moderate</td>\n",
       "      <td>4</td>\n",
       "      <td>71-80</td>\n",
       "      <td>4161</td>\n",
       "      <td>NaN</td>\n",
       "    </tr>\n",
       "    <tr>\n",
       "      <th>...</th>\n",
       "      <td>...</td>\n",
       "      <td>...</td>\n",
       "      <td>...</td>\n",
       "      <td>...</td>\n",
       "      <td>...</td>\n",
       "      <td>...</td>\n",
       "      <td>...</td>\n",
       "      <td>...</td>\n",
       "      <td>...</td>\n",
       "      <td>...</td>\n",
       "      <td>...</td>\n",
       "      <td>...</td>\n",
       "      <td>...</td>\n",
       "      <td>...</td>\n",
       "      <td>...</td>\n",
       "      <td>...</td>\n",
       "      <td>...</td>\n",
       "      <td>...</td>\n",
       "    </tr>\n",
       "    <tr>\n",
       "      <th>137052</th>\n",
       "      <td>455491</td>\n",
       "      <td>11</td>\n",
       "      <td>b</td>\n",
       "      <td>2</td>\n",
       "      <td>Y</td>\n",
       "      <td>4</td>\n",
       "      <td>anesthesia</td>\n",
       "      <td>Q</td>\n",
       "      <td>D</td>\n",
       "      <td>3.0</td>\n",
       "      <td>41160</td>\n",
       "      <td>3.0</td>\n",
       "      <td>Emergency</td>\n",
       "      <td>Minor</td>\n",
       "      <td>4</td>\n",
       "      <td>41-50</td>\n",
       "      <td>6313</td>\n",
       "      <td>NaN</td>\n",
       "    </tr>\n",
       "    <tr>\n",
       "      <th>137053</th>\n",
       "      <td>455492</td>\n",
       "      <td>25</td>\n",
       "      <td>e</td>\n",
       "      <td>1</td>\n",
       "      <td>X</td>\n",
       "      <td>2</td>\n",
       "      <td>radiotherapy</td>\n",
       "      <td>R</td>\n",
       "      <td>E</td>\n",
       "      <td>4.0</td>\n",
       "      <td>30985</td>\n",
       "      <td>7.0</td>\n",
       "      <td>Emergency</td>\n",
       "      <td>Moderate</td>\n",
       "      <td>2</td>\n",
       "      <td>0-10</td>\n",
       "      <td>3510</td>\n",
       "      <td>NaN</td>\n",
       "    </tr>\n",
       "    <tr>\n",
       "      <th>137054</th>\n",
       "      <td>455493</td>\n",
       "      <td>30</td>\n",
       "      <td>c</td>\n",
       "      <td>3</td>\n",
       "      <td>Z</td>\n",
       "      <td>2</td>\n",
       "      <td>anesthesia</td>\n",
       "      <td>R</td>\n",
       "      <td>A</td>\n",
       "      <td>4.0</td>\n",
       "      <td>81811</td>\n",
       "      <td>12.0</td>\n",
       "      <td>Urgent</td>\n",
       "      <td>Minor</td>\n",
       "      <td>2</td>\n",
       "      <td>0-10</td>\n",
       "      <td>7190</td>\n",
       "      <td>NaN</td>\n",
       "    </tr>\n",
       "    <tr>\n",
       "      <th>137055</th>\n",
       "      <td>455494</td>\n",
       "      <td>5</td>\n",
       "      <td>a</td>\n",
       "      <td>1</td>\n",
       "      <td>X</td>\n",
       "      <td>2</td>\n",
       "      <td>anesthesia</td>\n",
       "      <td>R</td>\n",
       "      <td>E</td>\n",
       "      <td>4.0</td>\n",
       "      <td>57021</td>\n",
       "      <td>10.0</td>\n",
       "      <td>Trauma</td>\n",
       "      <td>Minor</td>\n",
       "      <td>2</td>\n",
       "      <td>41-50</td>\n",
       "      <td>5435</td>\n",
       "      <td>NaN</td>\n",
       "    </tr>\n",
       "    <tr>\n",
       "      <th>137056</th>\n",
       "      <td>455495</td>\n",
       "      <td>6</td>\n",
       "      <td>a</td>\n",
       "      <td>6</td>\n",
       "      <td>X</td>\n",
       "      <td>3</td>\n",
       "      <td>gynecology</td>\n",
       "      <td>Q</td>\n",
       "      <td>F</td>\n",
       "      <td>4.0</td>\n",
       "      <td>126729</td>\n",
       "      <td>3.0</td>\n",
       "      <td>Trauma</td>\n",
       "      <td>Extreme</td>\n",
       "      <td>5</td>\n",
       "      <td>51-60</td>\n",
       "      <td>4702</td>\n",
       "      <td>NaN</td>\n",
       "    </tr>\n",
       "  </tbody>\n",
       "</table>\n",
       "<p>137057 rows × 18 columns</p>\n",
       "</div>"
      ],
      "text/plain": [
       "        case_id  Hospital_code Hospital_type_code  City_Code_Hospital  \\\n",
       "0        318439             21                  c                   3   \n",
       "1        318440             29                  a                   4   \n",
       "2        318441             26                  b                   2   \n",
       "3        318442              6                  a                   6   \n",
       "4        318443             28                  b                  11   \n",
       "...         ...            ...                ...                 ...   \n",
       "137052   455491             11                  b                   2   \n",
       "137053   455492             25                  e                   1   \n",
       "137054   455493             30                  c                   3   \n",
       "137055   455494              5                  a                   1   \n",
       "137056   455495              6                  a                   6   \n",
       "\n",
       "       Hospital_region_code  Available Extra Rooms in Hospital    Department  \\\n",
       "0                         Z                                  3    gynecology   \n",
       "1                         X                                  2    gynecology   \n",
       "2                         Y                                  3    gynecology   \n",
       "3                         X                                  3    gynecology   \n",
       "4                         X                                  2    gynecology   \n",
       "...                     ...                                ...           ...   \n",
       "137052                    Y                                  4    anesthesia   \n",
       "137053                    X                                  2  radiotherapy   \n",
       "137054                    Z                                  2    anesthesia   \n",
       "137055                    X                                  2    anesthesia   \n",
       "137056                    X                                  3    gynecology   \n",
       "\n",
       "       Ward_Type Ward_Facility_Code  Bed Grade  patientid  City_Code_Patient  \\\n",
       "0              S                  A        2.0      17006                2.0   \n",
       "1              S                  F        2.0      17006                2.0   \n",
       "2              Q                  D        4.0      17006                2.0   \n",
       "3              Q                  F        2.0      17006                2.0   \n",
       "4              R                  F        2.0      17006                2.0   \n",
       "...          ...                ...        ...        ...                ...   \n",
       "137052         Q                  D        3.0      41160                3.0   \n",
       "137053         R                  E        4.0      30985                7.0   \n",
       "137054         R                  A        4.0      81811               12.0   \n",
       "137055         R                  E        4.0      57021               10.0   \n",
       "137056         Q                  F        4.0     126729                3.0   \n",
       "\n",
       "       Type of Admission Severity of Illness  Visitors with Patient    Age  \\\n",
       "0              Emergency            Moderate                      2  71-80   \n",
       "1                 Trauma            Moderate                      4  71-80   \n",
       "2              Emergency            Moderate                      3  71-80   \n",
       "3                 Trauma            Moderate                      3  71-80   \n",
       "4                 Trauma            Moderate                      4  71-80   \n",
       "...                  ...                 ...                    ...    ...   \n",
       "137052         Emergency               Minor                      4  41-50   \n",
       "137053         Emergency            Moderate                      2   0-10   \n",
       "137054            Urgent               Minor                      2   0-10   \n",
       "137055            Trauma               Minor                      2  41-50   \n",
       "137056            Trauma             Extreme                      5  51-60   \n",
       "\n",
       "        Admission_Deposit  Unnamed: 17  \n",
       "0                    3095          NaN  \n",
       "1                    4018          NaN  \n",
       "2                    4492          NaN  \n",
       "3                    4173          NaN  \n",
       "4                    4161          NaN  \n",
       "...                   ...          ...  \n",
       "137052               6313          NaN  \n",
       "137053               3510          NaN  \n",
       "137054               7190          NaN  \n",
       "137055               5435          NaN  \n",
       "137056               4702          NaN  \n",
       "\n",
       "[137057 rows x 18 columns]"
      ]
     },
     "execution_count": 21,
     "metadata": {},
     "output_type": "execute_result"
    }
   ],
   "source": [
    "test_data=pd.read_csv(\"D:/My files/Projects/Hackathon/Test_ND2Q3bm/test.csv\")\n",
    "test_data"
   ]
  },
  {
   "cell_type": "code",
   "execution_count": 22,
   "metadata": {},
   "outputs": [],
   "source": [
    "test_data=test_data.rename(columns={\"Available Extra Rooms in Hospital\": \"Available_Rooms_in_Hspl\",\n",
    "                                \"Bed Grade\":\"Bed_Grade\",\"Type of Admission\":\"Type_of_Admission\",\n",
    "                                \"Severity of Illness\":\"Severity_of_Illness\",\"Visitors with Patient\":\"Visitors_with_Patient\"})"
   ]
  },
  {
   "cell_type": "code",
   "execution_count": 23,
   "metadata": {},
   "outputs": [
    {
     "name": "stdout",
     "output_type": "stream",
     "text": [
      "<class 'pandas.core.frame.DataFrame'>\n",
      "RangeIndex: 137057 entries, 0 to 137056\n",
      "Data columns (total 18 columns):\n",
      " #   Column                   Non-Null Count   Dtype  \n",
      "---  ------                   --------------   -----  \n",
      " 0   case_id                  137057 non-null  int64  \n",
      " 1   Hospital_code            137057 non-null  int64  \n",
      " 2   Hospital_type_code       137057 non-null  object \n",
      " 3   City_Code_Hospital       137057 non-null  int64  \n",
      " 4   Hospital_region_code     137057 non-null  object \n",
      " 5   Available_Rooms_in_Hspl  137057 non-null  int64  \n",
      " 6   Department               137057 non-null  object \n",
      " 7   Ward_Type                137057 non-null  object \n",
      " 8   Ward_Facility_Code       137057 non-null  object \n",
      " 9   Bed_Grade                137022 non-null  float64\n",
      " 10  patientid                137057 non-null  int64  \n",
      " 11  City_Code_Patient        134900 non-null  float64\n",
      " 12  Type_of_Admission        137057 non-null  object \n",
      " 13  Severity_of_Illness      137057 non-null  object \n",
      " 14  Visitors_with_Patient    137057 non-null  int64  \n",
      " 15  Age                      137057 non-null  object \n",
      " 16  Admission_Deposit        137057 non-null  int64  \n",
      " 17  Unnamed: 17              0 non-null       float64\n",
      "dtypes: float64(3), int64(7), object(8)\n",
      "memory usage: 18.8+ MB\n"
     ]
    }
   ],
   "source": [
    "test_data.info()"
   ]
  },
  {
   "cell_type": "code",
   "execution_count": 24,
   "metadata": {},
   "outputs": [
    {
     "data": {
      "text/plain": [
       "case_id                         0\n",
       "Hospital_code                   0\n",
       "Hospital_type_code              0\n",
       "City_Code_Hospital              0\n",
       "Hospital_region_code            0\n",
       "Available_Rooms_in_Hspl         0\n",
       "Department                      0\n",
       "Ward_Type                       0\n",
       "Ward_Facility_Code              0\n",
       "Bed_Grade                      35\n",
       "patientid                       0\n",
       "City_Code_Patient            2157\n",
       "Type_of_Admission               0\n",
       "Severity_of_Illness             0\n",
       "Visitors_with_Patient           0\n",
       "Age                             0\n",
       "Admission_Deposit               0\n",
       "Unnamed: 17                137057\n",
       "dtype: int64"
      ]
     },
     "execution_count": 24,
     "metadata": {},
     "output_type": "execute_result"
    }
   ],
   "source": [
    "test_data.isnull().sum()"
   ]
  },
  {
   "cell_type": "code",
   "execution_count": 25,
   "metadata": {},
   "outputs": [],
   "source": [
    "test_data['City_Code_Patient'] = test_data['City_Code_Patient'].fillna(test_data['City_Code_Patient'].mode()[0])\n",
    "test_data['Bed_Grade'] = test_data['Bed_Grade'].fillna(test_data['Bed_Grade'].mode()[0])"
   ]
  },
  {
   "cell_type": "code",
   "execution_count": 26,
   "metadata": {},
   "outputs": [
    {
     "data": {
      "text/plain": [
       "case_id                         0\n",
       "Hospital_code                   0\n",
       "Hospital_type_code              0\n",
       "City_Code_Hospital              0\n",
       "Hospital_region_code            0\n",
       "Available_Rooms_in_Hspl         0\n",
       "Department                      0\n",
       "Ward_Type                       0\n",
       "Ward_Facility_Code              0\n",
       "Bed_Grade                       0\n",
       "patientid                       0\n",
       "City_Code_Patient               0\n",
       "Type_of_Admission               0\n",
       "Severity_of_Illness             0\n",
       "Visitors_with_Patient           0\n",
       "Age                             0\n",
       "Admission_Deposit               0\n",
       "Unnamed: 17                137057\n",
       "dtype: int64"
      ]
     },
     "execution_count": 26,
     "metadata": {},
     "output_type": "execute_result"
    }
   ],
   "source": [
    "test_data.isnull().sum()"
   ]
  },
  {
   "cell_type": "code",
   "execution_count": 27,
   "metadata": {},
   "outputs": [],
   "source": [
    "test_data['Hospital_type_code']=test_data['Hospital_type_code'].astype('category')\n",
    "test_data['Hospital_region_code']=test_data['Hospital_region_code'].astype('category')\n",
    "test_data['Department']=test_data['Department'].astype('category')\n",
    "test_data['Ward_Type']=test_data['Ward_Type'].astype('category')\n",
    "test_data['Ward_Facility_Code']=test_data['Ward_Facility_Code'].astype('category')\n",
    "test_data['Type_of_Admission']=test_data['Type_of_Admission'].astype('category')\n",
    "test_data['Severity_of_Illness']=test_data['Severity_of_Illness'].astype('category')\n",
    "test_data['Age']=test_data['Age'].astype('category')"
   ]
  },
  {
   "cell_type": "code",
   "execution_count": 28,
   "metadata": {},
   "outputs": [],
   "source": [
    "test_data['Hospital_type_code']=test_data['Hospital_type_code'].cat.codes\n",
    "test_data['Hospital_region_code']=test_data['Hospital_region_code'].cat.codes\n",
    "test_data['Department']=test_data['Department'].cat.codes\n",
    "test_data['Ward_Type']=test_data['Ward_Type'].cat.codes\n",
    "test_data['Ward_Facility_Code']=test_data['Ward_Facility_Code'].cat.codes\n",
    "test_data['Type_of_Admission']=test_data['Type_of_Admission'].cat.codes\n",
    "test_data['Severity_of_Illness']=test_data['Severity_of_Illness'].cat.codes\n",
    "test_data['Age']=test_data['Age'].cat.codes"
   ]
  },
  {
   "cell_type": "code",
   "execution_count": 29,
   "metadata": {},
   "outputs": [],
   "source": [
    "test_data.to_csv('D:/My files/Projects/Hackathon/Test_ND2Q3bm/test1.csv')"
   ]
  },
  {
   "cell_type": "markdown",
   "metadata": {},
   "source": [
    "# Read Pre-Processed test data"
   ]
  },
  {
   "cell_type": "code",
   "execution_count": 30,
   "metadata": {},
   "outputs": [],
   "source": [
    "test_data=pd.read_csv(\"D:/My files/Projects/Hackathon/Test_ND2Q3bm/test1.csv\")"
   ]
  },
  {
   "cell_type": "code",
   "execution_count": 31,
   "metadata": {},
   "outputs": [],
   "source": [
    "data_test=test_data.copy(deep=True)"
   ]
  },
  {
   "cell_type": "code",
   "execution_count": 32,
   "metadata": {
    "collapsed": true
   },
   "outputs": [
    {
     "data": {
      "text/html": [
       "<div>\n",
       "<style scoped>\n",
       "    .dataframe tbody tr th:only-of-type {\n",
       "        vertical-align: middle;\n",
       "    }\n",
       "\n",
       "    .dataframe tbody tr th {\n",
       "        vertical-align: top;\n",
       "    }\n",
       "\n",
       "    .dataframe thead th {\n",
       "        text-align: right;\n",
       "    }\n",
       "</style>\n",
       "<table border=\"1\" class=\"dataframe\">\n",
       "  <thead>\n",
       "    <tr style=\"text-align: right;\">\n",
       "      <th></th>\n",
       "      <th>Unnamed: 0</th>\n",
       "      <th>case_id</th>\n",
       "      <th>Hospital_code</th>\n",
       "      <th>Hospital_type_code</th>\n",
       "      <th>City_Code_Hospital</th>\n",
       "      <th>Hospital_region_code</th>\n",
       "      <th>Available_Rooms_in_Hspl</th>\n",
       "      <th>Department</th>\n",
       "      <th>Ward_Type</th>\n",
       "      <th>Ward_Facility_Code</th>\n",
       "      <th>Bed_Grade</th>\n",
       "      <th>patientid</th>\n",
       "      <th>City_Code_Patient</th>\n",
       "      <th>Type_of_Admission</th>\n",
       "      <th>Severity_of_Illness</th>\n",
       "      <th>Visitors_with_Patient</th>\n",
       "      <th>Age</th>\n",
       "      <th>Admission_Deposit</th>\n",
       "      <th>Unnamed: 17</th>\n",
       "    </tr>\n",
       "  </thead>\n",
       "  <tbody>\n",
       "    <tr>\n",
       "      <th>Unnamed: 0</th>\n",
       "      <td>1.000000</td>\n",
       "      <td>1.000000</td>\n",
       "      <td>-0.045982</td>\n",
       "      <td>0.000593</td>\n",
       "      <td>-0.012916</td>\n",
       "      <td>0.006442</td>\n",
       "      <td>0.050804</td>\n",
       "      <td>-0.005887</td>\n",
       "      <td>-0.026745</td>\n",
       "      <td>-0.005893</td>\n",
       "      <td>0.015756</td>\n",
       "      <td>0.006000</td>\n",
       "      <td>0.075474</td>\n",
       "      <td>0.077946</td>\n",
       "      <td>0.015423</td>\n",
       "      <td>0.001000</td>\n",
       "      <td>-0.031002</td>\n",
       "      <td>-0.040073</td>\n",
       "      <td>NaN</td>\n",
       "    </tr>\n",
       "    <tr>\n",
       "      <th>case_id</th>\n",
       "      <td>1.000000</td>\n",
       "      <td>1.000000</td>\n",
       "      <td>-0.045982</td>\n",
       "      <td>0.000593</td>\n",
       "      <td>-0.012916</td>\n",
       "      <td>0.006442</td>\n",
       "      <td>0.050804</td>\n",
       "      <td>-0.005887</td>\n",
       "      <td>-0.026745</td>\n",
       "      <td>-0.005893</td>\n",
       "      <td>0.015756</td>\n",
       "      <td>0.006000</td>\n",
       "      <td>0.075474</td>\n",
       "      <td>0.077946</td>\n",
       "      <td>0.015423</td>\n",
       "      <td>0.001000</td>\n",
       "      <td>-0.031002</td>\n",
       "      <td>-0.040073</td>\n",
       "      <td>NaN</td>\n",
       "    </tr>\n",
       "    <tr>\n",
       "      <th>Hospital_code</th>\n",
       "      <td>-0.045982</td>\n",
       "      <td>-0.045982</td>\n",
       "      <td>1.000000</td>\n",
       "      <td>0.036730</td>\n",
       "      <td>0.126531</td>\n",
       "      <td>-0.136266</td>\n",
       "      <td>-0.056650</td>\n",
       "      <td>-0.001501</td>\n",
       "      <td>0.158827</td>\n",
       "      <td>-0.128795</td>\n",
       "      <td>-0.017694</td>\n",
       "      <td>0.004349</td>\n",
       "      <td>-0.014465</td>\n",
       "      <td>-0.015381</td>\n",
       "      <td>-0.005143</td>\n",
       "      <td>-0.027404</td>\n",
       "      <td>0.007893</td>\n",
       "      <td>0.048474</td>\n",
       "      <td>NaN</td>\n",
       "    </tr>\n",
       "    <tr>\n",
       "      <th>Hospital_type_code</th>\n",
       "      <td>0.000593</td>\n",
       "      <td>0.000593</td>\n",
       "      <td>0.036730</td>\n",
       "      <td>1.000000</td>\n",
       "      <td>-0.005863</td>\n",
       "      <td>0.271757</td>\n",
       "      <td>-0.100781</td>\n",
       "      <td>0.005144</td>\n",
       "      <td>0.241546</td>\n",
       "      <td>-0.266961</td>\n",
       "      <td>0.017623</td>\n",
       "      <td>-0.004091</td>\n",
       "      <td>0.055244</td>\n",
       "      <td>0.077665</td>\n",
       "      <td>-0.009205</td>\n",
       "      <td>-0.046164</td>\n",
       "      <td>0.008012</td>\n",
       "      <td>0.027589</td>\n",
       "      <td>NaN</td>\n",
       "    </tr>\n",
       "    <tr>\n",
       "      <th>City_Code_Hospital</th>\n",
       "      <td>-0.012916</td>\n",
       "      <td>-0.012916</td>\n",
       "      <td>0.126531</td>\n",
       "      <td>-0.005863</td>\n",
       "      <td>1.000000</td>\n",
       "      <td>0.001371</td>\n",
       "      <td>-0.044260</td>\n",
       "      <td>0.029055</td>\n",
       "      <td>0.121591</td>\n",
       "      <td>-0.091563</td>\n",
       "      <td>-0.046395</td>\n",
       "      <td>0.003642</td>\n",
       "      <td>-0.027944</td>\n",
       "      <td>-0.019555</td>\n",
       "      <td>-0.000116</td>\n",
       "      <td>0.018822</td>\n",
       "      <td>0.016886</td>\n",
       "      <td>-0.035529</td>\n",
       "      <td>NaN</td>\n",
       "    </tr>\n",
       "    <tr>\n",
       "      <th>Hospital_region_code</th>\n",
       "      <td>0.006442</td>\n",
       "      <td>0.006442</td>\n",
       "      <td>-0.136266</td>\n",
       "      <td>0.271757</td>\n",
       "      <td>0.001371</td>\n",
       "      <td>1.000000</td>\n",
       "      <td>-0.005883</td>\n",
       "      <td>0.043891</td>\n",
       "      <td>0.075574</td>\n",
       "      <td>-0.512918</td>\n",
       "      <td>-0.042207</td>\n",
       "      <td>-0.000538</td>\n",
       "      <td>0.140401</td>\n",
       "      <td>0.003575</td>\n",
       "      <td>-0.016144</td>\n",
       "      <td>-0.024856</td>\n",
       "      <td>-0.003386</td>\n",
       "      <td>0.078413</td>\n",
       "      <td>NaN</td>\n",
       "    </tr>\n",
       "    <tr>\n",
       "      <th>Available_Rooms_in_Hspl</th>\n",
       "      <td>0.050804</td>\n",
       "      <td>0.050804</td>\n",
       "      <td>-0.056650</td>\n",
       "      <td>-0.100781</td>\n",
       "      <td>-0.044260</td>\n",
       "      <td>-0.005883</td>\n",
       "      <td>1.000000</td>\n",
       "      <td>0.039708</td>\n",
       "      <td>-0.431769</td>\n",
       "      <td>0.043224</td>\n",
       "      <td>-0.113927</td>\n",
       "      <td>0.003030</td>\n",
       "      <td>-0.006379</td>\n",
       "      <td>-0.013710</td>\n",
       "      <td>0.014555</td>\n",
       "      <td>0.093658</td>\n",
       "      <td>-0.131378</td>\n",
       "      <td>-0.142906</td>\n",
       "      <td>NaN</td>\n",
       "    </tr>\n",
       "    <tr>\n",
       "      <th>Department</th>\n",
       "      <td>-0.005887</td>\n",
       "      <td>-0.005887</td>\n",
       "      <td>-0.001501</td>\n",
       "      <td>0.005144</td>\n",
       "      <td>0.029055</td>\n",
       "      <td>0.043891</td>\n",
       "      <td>0.039708</td>\n",
       "      <td>1.000000</td>\n",
       "      <td>-0.001250</td>\n",
       "      <td>-0.040054</td>\n",
       "      <td>-0.098253</td>\n",
       "      <td>-0.005646</td>\n",
       "      <td>0.013771</td>\n",
       "      <td>-0.080311</td>\n",
       "      <td>-0.003432</td>\n",
       "      <td>0.026015</td>\n",
       "      <td>0.033831</td>\n",
       "      <td>-0.078215</td>\n",
       "      <td>NaN</td>\n",
       "    </tr>\n",
       "    <tr>\n",
       "      <th>Ward_Type</th>\n",
       "      <td>-0.026745</td>\n",
       "      <td>-0.026745</td>\n",
       "      <td>0.158827</td>\n",
       "      <td>0.241546</td>\n",
       "      <td>0.121591</td>\n",
       "      <td>0.075574</td>\n",
       "      <td>-0.431769</td>\n",
       "      <td>-0.001250</td>\n",
       "      <td>1.000000</td>\n",
       "      <td>-0.151996</td>\n",
       "      <td>-0.014130</td>\n",
       "      <td>0.002175</td>\n",
       "      <td>0.012280</td>\n",
       "      <td>0.007076</td>\n",
       "      <td>0.003923</td>\n",
       "      <td>-0.092147</td>\n",
       "      <td>0.033275</td>\n",
       "      <td>0.048060</td>\n",
       "      <td>NaN</td>\n",
       "    </tr>\n",
       "    <tr>\n",
       "      <th>Ward_Facility_Code</th>\n",
       "      <td>-0.005893</td>\n",
       "      <td>-0.005893</td>\n",
       "      <td>-0.128795</td>\n",
       "      <td>-0.266961</td>\n",
       "      <td>-0.091563</td>\n",
       "      <td>-0.512918</td>\n",
       "      <td>0.043224</td>\n",
       "      <td>-0.040054</td>\n",
       "      <td>-0.151996</td>\n",
       "      <td>1.000000</td>\n",
       "      <td>0.076591</td>\n",
       "      <td>-0.001768</td>\n",
       "      <td>-0.132044</td>\n",
       "      <td>0.039061</td>\n",
       "      <td>0.019921</td>\n",
       "      <td>0.028753</td>\n",
       "      <td>-0.005078</td>\n",
       "      <td>-0.023771</td>\n",
       "      <td>NaN</td>\n",
       "    </tr>\n",
       "    <tr>\n",
       "      <th>Bed_Grade</th>\n",
       "      <td>0.015756</td>\n",
       "      <td>0.015756</td>\n",
       "      <td>-0.017694</td>\n",
       "      <td>0.017623</td>\n",
       "      <td>-0.046395</td>\n",
       "      <td>-0.042207</td>\n",
       "      <td>-0.113927</td>\n",
       "      <td>-0.098253</td>\n",
       "      <td>-0.014130</td>\n",
       "      <td>0.076591</td>\n",
       "      <td>1.000000</td>\n",
       "      <td>-0.001957</td>\n",
       "      <td>-0.003915</td>\n",
       "      <td>0.125903</td>\n",
       "      <td>0.044635</td>\n",
       "      <td>0.090316</td>\n",
       "      <td>0.055242</td>\n",
       "      <td>0.066828</td>\n",
       "      <td>NaN</td>\n",
       "    </tr>\n",
       "    <tr>\n",
       "      <th>patientid</th>\n",
       "      <td>0.006000</td>\n",
       "      <td>0.006000</td>\n",
       "      <td>0.004349</td>\n",
       "      <td>-0.004091</td>\n",
       "      <td>0.003642</td>\n",
       "      <td>-0.000538</td>\n",
       "      <td>0.003030</td>\n",
       "      <td>-0.005646</td>\n",
       "      <td>0.002175</td>\n",
       "      <td>-0.001768</td>\n",
       "      <td>-0.001957</td>\n",
       "      <td>1.000000</td>\n",
       "      <td>-0.001469</td>\n",
       "      <td>0.001886</td>\n",
       "      <td>-0.005477</td>\n",
       "      <td>-0.006427</td>\n",
       "      <td>-0.004881</td>\n",
       "      <td>0.002186</td>\n",
       "      <td>NaN</td>\n",
       "    </tr>\n",
       "    <tr>\n",
       "      <th>City_Code_Patient</th>\n",
       "      <td>0.075474</td>\n",
       "      <td>0.075474</td>\n",
       "      <td>-0.014465</td>\n",
       "      <td>0.055244</td>\n",
       "      <td>-0.027944</td>\n",
       "      <td>0.140401</td>\n",
       "      <td>-0.006379</td>\n",
       "      <td>0.013771</td>\n",
       "      <td>0.012280</td>\n",
       "      <td>-0.132044</td>\n",
       "      <td>-0.003915</td>\n",
       "      <td>-0.001469</td>\n",
       "      <td>1.000000</td>\n",
       "      <td>-0.029448</td>\n",
       "      <td>-0.009740</td>\n",
       "      <td>-0.013043</td>\n",
       "      <td>0.006132</td>\n",
       "      <td>0.024911</td>\n",
       "      <td>NaN</td>\n",
       "    </tr>\n",
       "    <tr>\n",
       "      <th>Type_of_Admission</th>\n",
       "      <td>0.077946</td>\n",
       "      <td>0.077946</td>\n",
       "      <td>-0.015381</td>\n",
       "      <td>0.077665</td>\n",
       "      <td>-0.019555</td>\n",
       "      <td>0.003575</td>\n",
       "      <td>-0.013710</td>\n",
       "      <td>-0.080311</td>\n",
       "      <td>0.007076</td>\n",
       "      <td>0.039061</td>\n",
       "      <td>0.125903</td>\n",
       "      <td>0.001886</td>\n",
       "      <td>-0.029448</td>\n",
       "      <td>1.000000</td>\n",
       "      <td>0.011093</td>\n",
       "      <td>-0.096870</td>\n",
       "      <td>-0.026080</td>\n",
       "      <td>0.041140</td>\n",
       "      <td>NaN</td>\n",
       "    </tr>\n",
       "    <tr>\n",
       "      <th>Severity_of_Illness</th>\n",
       "      <td>0.015423</td>\n",
       "      <td>0.015423</td>\n",
       "      <td>-0.005143</td>\n",
       "      <td>-0.009205</td>\n",
       "      <td>-0.000116</td>\n",
       "      <td>-0.016144</td>\n",
       "      <td>0.014555</td>\n",
       "      <td>-0.003432</td>\n",
       "      <td>0.003923</td>\n",
       "      <td>0.019921</td>\n",
       "      <td>0.044635</td>\n",
       "      <td>-0.005477</td>\n",
       "      <td>-0.009740</td>\n",
       "      <td>0.011093</td>\n",
       "      <td>1.000000</td>\n",
       "      <td>-0.020514</td>\n",
       "      <td>-0.032730</td>\n",
       "      <td>0.022360</td>\n",
       "      <td>NaN</td>\n",
       "    </tr>\n",
       "    <tr>\n",
       "      <th>Visitors_with_Patient</th>\n",
       "      <td>0.001000</td>\n",
       "      <td>0.001000</td>\n",
       "      <td>-0.027404</td>\n",
       "      <td>-0.046164</td>\n",
       "      <td>0.018822</td>\n",
       "      <td>-0.024856</td>\n",
       "      <td>0.093658</td>\n",
       "      <td>0.026015</td>\n",
       "      <td>-0.092147</td>\n",
       "      <td>0.028753</td>\n",
       "      <td>0.090316</td>\n",
       "      <td>-0.006427</td>\n",
       "      <td>-0.013043</td>\n",
       "      <td>-0.096870</td>\n",
       "      <td>-0.020514</td>\n",
       "      <td>1.000000</td>\n",
       "      <td>0.043105</td>\n",
       "      <td>-0.149211</td>\n",
       "      <td>NaN</td>\n",
       "    </tr>\n",
       "    <tr>\n",
       "      <th>Age</th>\n",
       "      <td>-0.031002</td>\n",
       "      <td>-0.031002</td>\n",
       "      <td>0.007893</td>\n",
       "      <td>0.008012</td>\n",
       "      <td>0.016886</td>\n",
       "      <td>-0.003386</td>\n",
       "      <td>-0.131378</td>\n",
       "      <td>0.033831</td>\n",
       "      <td>0.033275</td>\n",
       "      <td>-0.005078</td>\n",
       "      <td>0.055242</td>\n",
       "      <td>-0.004881</td>\n",
       "      <td>0.006132</td>\n",
       "      <td>-0.026080</td>\n",
       "      <td>-0.032730</td>\n",
       "      <td>0.043105</td>\n",
       "      <td>1.000000</td>\n",
       "      <td>0.032009</td>\n",
       "      <td>NaN</td>\n",
       "    </tr>\n",
       "    <tr>\n",
       "      <th>Admission_Deposit</th>\n",
       "      <td>-0.040073</td>\n",
       "      <td>-0.040073</td>\n",
       "      <td>0.048474</td>\n",
       "      <td>0.027589</td>\n",
       "      <td>-0.035529</td>\n",
       "      <td>0.078413</td>\n",
       "      <td>-0.142906</td>\n",
       "      <td>-0.078215</td>\n",
       "      <td>0.048060</td>\n",
       "      <td>-0.023771</td>\n",
       "      <td>0.066828</td>\n",
       "      <td>0.002186</td>\n",
       "      <td>0.024911</td>\n",
       "      <td>0.041140</td>\n",
       "      <td>0.022360</td>\n",
       "      <td>-0.149211</td>\n",
       "      <td>0.032009</td>\n",
       "      <td>1.000000</td>\n",
       "      <td>NaN</td>\n",
       "    </tr>\n",
       "    <tr>\n",
       "      <th>Unnamed: 17</th>\n",
       "      <td>NaN</td>\n",
       "      <td>NaN</td>\n",
       "      <td>NaN</td>\n",
       "      <td>NaN</td>\n",
       "      <td>NaN</td>\n",
       "      <td>NaN</td>\n",
       "      <td>NaN</td>\n",
       "      <td>NaN</td>\n",
       "      <td>NaN</td>\n",
       "      <td>NaN</td>\n",
       "      <td>NaN</td>\n",
       "      <td>NaN</td>\n",
       "      <td>NaN</td>\n",
       "      <td>NaN</td>\n",
       "      <td>NaN</td>\n",
       "      <td>NaN</td>\n",
       "      <td>NaN</td>\n",
       "      <td>NaN</td>\n",
       "      <td>NaN</td>\n",
       "    </tr>\n",
       "  </tbody>\n",
       "</table>\n",
       "</div>"
      ],
      "text/plain": [
       "                         Unnamed: 0   case_id  Hospital_code  \\\n",
       "Unnamed: 0                 1.000000  1.000000      -0.045982   \n",
       "case_id                    1.000000  1.000000      -0.045982   \n",
       "Hospital_code             -0.045982 -0.045982       1.000000   \n",
       "Hospital_type_code         0.000593  0.000593       0.036730   \n",
       "City_Code_Hospital        -0.012916 -0.012916       0.126531   \n",
       "Hospital_region_code       0.006442  0.006442      -0.136266   \n",
       "Available_Rooms_in_Hspl    0.050804  0.050804      -0.056650   \n",
       "Department                -0.005887 -0.005887      -0.001501   \n",
       "Ward_Type                 -0.026745 -0.026745       0.158827   \n",
       "Ward_Facility_Code        -0.005893 -0.005893      -0.128795   \n",
       "Bed_Grade                  0.015756  0.015756      -0.017694   \n",
       "patientid                  0.006000  0.006000       0.004349   \n",
       "City_Code_Patient          0.075474  0.075474      -0.014465   \n",
       "Type_of_Admission          0.077946  0.077946      -0.015381   \n",
       "Severity_of_Illness        0.015423  0.015423      -0.005143   \n",
       "Visitors_with_Patient      0.001000  0.001000      -0.027404   \n",
       "Age                       -0.031002 -0.031002       0.007893   \n",
       "Admission_Deposit         -0.040073 -0.040073       0.048474   \n",
       "Unnamed: 17                     NaN       NaN            NaN   \n",
       "\n",
       "                         Hospital_type_code  City_Code_Hospital  \\\n",
       "Unnamed: 0                         0.000593           -0.012916   \n",
       "case_id                            0.000593           -0.012916   \n",
       "Hospital_code                      0.036730            0.126531   \n",
       "Hospital_type_code                 1.000000           -0.005863   \n",
       "City_Code_Hospital                -0.005863            1.000000   \n",
       "Hospital_region_code               0.271757            0.001371   \n",
       "Available_Rooms_in_Hspl           -0.100781           -0.044260   \n",
       "Department                         0.005144            0.029055   \n",
       "Ward_Type                          0.241546            0.121591   \n",
       "Ward_Facility_Code                -0.266961           -0.091563   \n",
       "Bed_Grade                          0.017623           -0.046395   \n",
       "patientid                         -0.004091            0.003642   \n",
       "City_Code_Patient                  0.055244           -0.027944   \n",
       "Type_of_Admission                  0.077665           -0.019555   \n",
       "Severity_of_Illness               -0.009205           -0.000116   \n",
       "Visitors_with_Patient             -0.046164            0.018822   \n",
       "Age                                0.008012            0.016886   \n",
       "Admission_Deposit                  0.027589           -0.035529   \n",
       "Unnamed: 17                             NaN                 NaN   \n",
       "\n",
       "                         Hospital_region_code  Available_Rooms_in_Hspl  \\\n",
       "Unnamed: 0                           0.006442                 0.050804   \n",
       "case_id                              0.006442                 0.050804   \n",
       "Hospital_code                       -0.136266                -0.056650   \n",
       "Hospital_type_code                   0.271757                -0.100781   \n",
       "City_Code_Hospital                   0.001371                -0.044260   \n",
       "Hospital_region_code                 1.000000                -0.005883   \n",
       "Available_Rooms_in_Hspl             -0.005883                 1.000000   \n",
       "Department                           0.043891                 0.039708   \n",
       "Ward_Type                            0.075574                -0.431769   \n",
       "Ward_Facility_Code                  -0.512918                 0.043224   \n",
       "Bed_Grade                           -0.042207                -0.113927   \n",
       "patientid                           -0.000538                 0.003030   \n",
       "City_Code_Patient                    0.140401                -0.006379   \n",
       "Type_of_Admission                    0.003575                -0.013710   \n",
       "Severity_of_Illness                 -0.016144                 0.014555   \n",
       "Visitors_with_Patient               -0.024856                 0.093658   \n",
       "Age                                 -0.003386                -0.131378   \n",
       "Admission_Deposit                    0.078413                -0.142906   \n",
       "Unnamed: 17                               NaN                      NaN   \n",
       "\n",
       "                         Department  Ward_Type  Ward_Facility_Code  Bed_Grade  \\\n",
       "Unnamed: 0                -0.005887  -0.026745           -0.005893   0.015756   \n",
       "case_id                   -0.005887  -0.026745           -0.005893   0.015756   \n",
       "Hospital_code             -0.001501   0.158827           -0.128795  -0.017694   \n",
       "Hospital_type_code         0.005144   0.241546           -0.266961   0.017623   \n",
       "City_Code_Hospital         0.029055   0.121591           -0.091563  -0.046395   \n",
       "Hospital_region_code       0.043891   0.075574           -0.512918  -0.042207   \n",
       "Available_Rooms_in_Hspl    0.039708  -0.431769            0.043224  -0.113927   \n",
       "Department                 1.000000  -0.001250           -0.040054  -0.098253   \n",
       "Ward_Type                 -0.001250   1.000000           -0.151996  -0.014130   \n",
       "Ward_Facility_Code        -0.040054  -0.151996            1.000000   0.076591   \n",
       "Bed_Grade                 -0.098253  -0.014130            0.076591   1.000000   \n",
       "patientid                 -0.005646   0.002175           -0.001768  -0.001957   \n",
       "City_Code_Patient          0.013771   0.012280           -0.132044  -0.003915   \n",
       "Type_of_Admission         -0.080311   0.007076            0.039061   0.125903   \n",
       "Severity_of_Illness       -0.003432   0.003923            0.019921   0.044635   \n",
       "Visitors_with_Patient      0.026015  -0.092147            0.028753   0.090316   \n",
       "Age                        0.033831   0.033275           -0.005078   0.055242   \n",
       "Admission_Deposit         -0.078215   0.048060           -0.023771   0.066828   \n",
       "Unnamed: 17                     NaN        NaN                 NaN        NaN   \n",
       "\n",
       "                         patientid  City_Code_Patient  Type_of_Admission  \\\n",
       "Unnamed: 0                0.006000           0.075474           0.077946   \n",
       "case_id                   0.006000           0.075474           0.077946   \n",
       "Hospital_code             0.004349          -0.014465          -0.015381   \n",
       "Hospital_type_code       -0.004091           0.055244           0.077665   \n",
       "City_Code_Hospital        0.003642          -0.027944          -0.019555   \n",
       "Hospital_region_code     -0.000538           0.140401           0.003575   \n",
       "Available_Rooms_in_Hspl   0.003030          -0.006379          -0.013710   \n",
       "Department               -0.005646           0.013771          -0.080311   \n",
       "Ward_Type                 0.002175           0.012280           0.007076   \n",
       "Ward_Facility_Code       -0.001768          -0.132044           0.039061   \n",
       "Bed_Grade                -0.001957          -0.003915           0.125903   \n",
       "patientid                 1.000000          -0.001469           0.001886   \n",
       "City_Code_Patient        -0.001469           1.000000          -0.029448   \n",
       "Type_of_Admission         0.001886          -0.029448           1.000000   \n",
       "Severity_of_Illness      -0.005477          -0.009740           0.011093   \n",
       "Visitors_with_Patient    -0.006427          -0.013043          -0.096870   \n",
       "Age                      -0.004881           0.006132          -0.026080   \n",
       "Admission_Deposit         0.002186           0.024911           0.041140   \n",
       "Unnamed: 17                    NaN                NaN                NaN   \n",
       "\n",
       "                         Severity_of_Illness  Visitors_with_Patient       Age  \\\n",
       "Unnamed: 0                          0.015423               0.001000 -0.031002   \n",
       "case_id                             0.015423               0.001000 -0.031002   \n",
       "Hospital_code                      -0.005143              -0.027404  0.007893   \n",
       "Hospital_type_code                 -0.009205              -0.046164  0.008012   \n",
       "City_Code_Hospital                 -0.000116               0.018822  0.016886   \n",
       "Hospital_region_code               -0.016144              -0.024856 -0.003386   \n",
       "Available_Rooms_in_Hspl             0.014555               0.093658 -0.131378   \n",
       "Department                         -0.003432               0.026015  0.033831   \n",
       "Ward_Type                           0.003923              -0.092147  0.033275   \n",
       "Ward_Facility_Code                  0.019921               0.028753 -0.005078   \n",
       "Bed_Grade                           0.044635               0.090316  0.055242   \n",
       "patientid                          -0.005477              -0.006427 -0.004881   \n",
       "City_Code_Patient                  -0.009740              -0.013043  0.006132   \n",
       "Type_of_Admission                   0.011093              -0.096870 -0.026080   \n",
       "Severity_of_Illness                 1.000000              -0.020514 -0.032730   \n",
       "Visitors_with_Patient              -0.020514               1.000000  0.043105   \n",
       "Age                                -0.032730               0.043105  1.000000   \n",
       "Admission_Deposit                   0.022360              -0.149211  0.032009   \n",
       "Unnamed: 17                              NaN                    NaN       NaN   \n",
       "\n",
       "                         Admission_Deposit  Unnamed: 17  \n",
       "Unnamed: 0                       -0.040073          NaN  \n",
       "case_id                          -0.040073          NaN  \n",
       "Hospital_code                     0.048474          NaN  \n",
       "Hospital_type_code                0.027589          NaN  \n",
       "City_Code_Hospital               -0.035529          NaN  \n",
       "Hospital_region_code              0.078413          NaN  \n",
       "Available_Rooms_in_Hspl          -0.142906          NaN  \n",
       "Department                       -0.078215          NaN  \n",
       "Ward_Type                         0.048060          NaN  \n",
       "Ward_Facility_Code               -0.023771          NaN  \n",
       "Bed_Grade                         0.066828          NaN  \n",
       "patientid                         0.002186          NaN  \n",
       "City_Code_Patient                 0.024911          NaN  \n",
       "Type_of_Admission                 0.041140          NaN  \n",
       "Severity_of_Illness               0.022360          NaN  \n",
       "Visitors_with_Patient            -0.149211          NaN  \n",
       "Age                               0.032009          NaN  \n",
       "Admission_Deposit                 1.000000          NaN  \n",
       "Unnamed: 17                            NaN          NaN  "
      ]
     },
     "execution_count": 32,
     "metadata": {},
     "output_type": "execute_result"
    }
   ],
   "source": [
    "corr=data_test.corr()\n",
    "corr"
   ]
  },
  {
   "cell_type": "code",
   "execution_count": 33,
   "metadata": {},
   "outputs": [],
   "source": [
    "data_test=data_test.drop(['Unnamed: 0','Unnamed: 17'],axis=1)"
   ]
  },
  {
   "cell_type": "markdown",
   "metadata": {},
   "source": [
    "# Read Pre-Processed train data"
   ]
  },
  {
   "cell_type": "code",
   "execution_count": 34,
   "metadata": {},
   "outputs": [],
   "source": [
    "rawData=pd.read_csv(\"D:/My files/Projects/Hackathon/Train_hMYJ020/train1.csv\")"
   ]
  },
  {
   "cell_type": "code",
   "execution_count": 35,
   "metadata": {},
   "outputs": [],
   "source": [
    "data_train=rawData.copy(deep=True)"
   ]
  },
  {
   "cell_type": "code",
   "execution_count": 36,
   "metadata": {
    "collapsed": true
   },
   "outputs": [
    {
     "data": {
      "text/html": [
       "<div>\n",
       "<style scoped>\n",
       "    .dataframe tbody tr th:only-of-type {\n",
       "        vertical-align: middle;\n",
       "    }\n",
       "\n",
       "    .dataframe tbody tr th {\n",
       "        vertical-align: top;\n",
       "    }\n",
       "\n",
       "    .dataframe thead th {\n",
       "        text-align: right;\n",
       "    }\n",
       "</style>\n",
       "<table border=\"1\" class=\"dataframe\">\n",
       "  <thead>\n",
       "    <tr style=\"text-align: right;\">\n",
       "      <th></th>\n",
       "      <th>Unnamed: 0</th>\n",
       "      <th>case_id</th>\n",
       "      <th>Hospital_code</th>\n",
       "      <th>Hospital_type_code</th>\n",
       "      <th>City_Code_Hospital</th>\n",
       "      <th>Hospital_region_code</th>\n",
       "      <th>Available_Rooms_in_Hspl</th>\n",
       "      <th>Department</th>\n",
       "      <th>Ward_Type</th>\n",
       "      <th>Ward_Facility_Code</th>\n",
       "      <th>Bed_Grade</th>\n",
       "      <th>patientid</th>\n",
       "      <th>City_Code_Patient</th>\n",
       "      <th>Type_of_Admission</th>\n",
       "      <th>Severity_of_Illness</th>\n",
       "      <th>Visitors_with_Patient</th>\n",
       "      <th>Age</th>\n",
       "      <th>Admission_Deposit</th>\n",
       "      <th>Stay</th>\n",
       "    </tr>\n",
       "  </thead>\n",
       "  <tbody>\n",
       "    <tr>\n",
       "      <th>Unnamed: 0</th>\n",
       "      <td>1.000000</td>\n",
       "      <td>1.000000</td>\n",
       "      <td>-0.042911</td>\n",
       "      <td>0.002237</td>\n",
       "      <td>-0.010386</td>\n",
       "      <td>0.007698</td>\n",
       "      <td>0.042452</td>\n",
       "      <td>-0.001623</td>\n",
       "      <td>-0.029023</td>\n",
       "      <td>-0.012671</td>\n",
       "      <td>0.012282</td>\n",
       "      <td>-0.003871</td>\n",
       "      <td>0.065213</td>\n",
       "      <td>0.077930</td>\n",
       "      <td>0.014915</td>\n",
       "      <td>0.000647</td>\n",
       "      <td>-0.115396</td>\n",
       "      <td>-0.045276</td>\n",
       "      <td>-0.054310</td>\n",
       "    </tr>\n",
       "    <tr>\n",
       "      <th>case_id</th>\n",
       "      <td>1.000000</td>\n",
       "      <td>1.000000</td>\n",
       "      <td>-0.042911</td>\n",
       "      <td>0.002237</td>\n",
       "      <td>-0.010386</td>\n",
       "      <td>0.007698</td>\n",
       "      <td>0.042452</td>\n",
       "      <td>-0.001623</td>\n",
       "      <td>-0.029023</td>\n",
       "      <td>-0.012671</td>\n",
       "      <td>0.012282</td>\n",
       "      <td>-0.003871</td>\n",
       "      <td>0.065213</td>\n",
       "      <td>0.077930</td>\n",
       "      <td>0.014915</td>\n",
       "      <td>0.000647</td>\n",
       "      <td>-0.115396</td>\n",
       "      <td>-0.045276</td>\n",
       "      <td>-0.054310</td>\n",
       "    </tr>\n",
       "    <tr>\n",
       "      <th>Hospital_code</th>\n",
       "      <td>-0.042911</td>\n",
       "      <td>-0.042911</td>\n",
       "      <td>1.000000</td>\n",
       "      <td>0.038583</td>\n",
       "      <td>0.128403</td>\n",
       "      <td>-0.137322</td>\n",
       "      <td>-0.059348</td>\n",
       "      <td>0.001087</td>\n",
       "      <td>0.160744</td>\n",
       "      <td>-0.132051</td>\n",
       "      <td>-0.013627</td>\n",
       "      <td>0.002262</td>\n",
       "      <td>-0.015709</td>\n",
       "      <td>-0.014711</td>\n",
       "      <td>-0.008116</td>\n",
       "      <td>-0.028103</td>\n",
       "      <td>0.016279</td>\n",
       "      <td>0.044950</td>\n",
       "      <td>0.042894</td>\n",
       "    </tr>\n",
       "    <tr>\n",
       "      <th>Hospital_type_code</th>\n",
       "      <td>0.002237</td>\n",
       "      <td>0.002237</td>\n",
       "      <td>0.038583</td>\n",
       "      <td>1.000000</td>\n",
       "      <td>-0.000409</td>\n",
       "      <td>0.268847</td>\n",
       "      <td>-0.102795</td>\n",
       "      <td>0.001659</td>\n",
       "      <td>0.245948</td>\n",
       "      <td>-0.265238</td>\n",
       "      <td>0.019073</td>\n",
       "      <td>-0.002992</td>\n",
       "      <td>0.055662</td>\n",
       "      <td>0.079959</td>\n",
       "      <td>-0.004751</td>\n",
       "      <td>-0.045036</td>\n",
       "      <td>0.006312</td>\n",
       "      <td>0.025788</td>\n",
       "      <td>0.058973</td>\n",
       "    </tr>\n",
       "    <tr>\n",
       "      <th>City_Code_Hospital</th>\n",
       "      <td>-0.010386</td>\n",
       "      <td>-0.010386</td>\n",
       "      <td>0.128403</td>\n",
       "      <td>-0.000409</td>\n",
       "      <td>1.000000</td>\n",
       "      <td>0.006642</td>\n",
       "      <td>-0.045547</td>\n",
       "      <td>0.029753</td>\n",
       "      <td>0.122430</td>\n",
       "      <td>-0.100236</td>\n",
       "      <td>-0.048096</td>\n",
       "      <td>0.000837</td>\n",
       "      <td>-0.023951</td>\n",
       "      <td>-0.016807</td>\n",
       "      <td>-0.000093</td>\n",
       "      <td>0.019330</td>\n",
       "      <td>0.020499</td>\n",
       "      <td>-0.035185</td>\n",
       "      <td>0.006626</td>\n",
       "    </tr>\n",
       "    <tr>\n",
       "      <th>Hospital_region_code</th>\n",
       "      <td>0.007698</td>\n",
       "      <td>0.007698</td>\n",
       "      <td>-0.137322</td>\n",
       "      <td>0.268847</td>\n",
       "      <td>0.006642</td>\n",
       "      <td>1.000000</td>\n",
       "      <td>-0.006193</td>\n",
       "      <td>0.041584</td>\n",
       "      <td>0.077406</td>\n",
       "      <td>-0.506425</td>\n",
       "      <td>-0.041018</td>\n",
       "      <td>-0.002246</td>\n",
       "      <td>0.152212</td>\n",
       "      <td>0.004488</td>\n",
       "      <td>-0.006144</td>\n",
       "      <td>-0.018559</td>\n",
       "      <td>-0.017653</td>\n",
       "      <td>0.074788</td>\n",
       "      <td>0.012002</td>\n",
       "    </tr>\n",
       "    <tr>\n",
       "      <th>Available_Rooms_in_Hspl</th>\n",
       "      <td>0.042452</td>\n",
       "      <td>0.042452</td>\n",
       "      <td>-0.059348</td>\n",
       "      <td>-0.102795</td>\n",
       "      <td>-0.045547</td>\n",
       "      <td>-0.006193</td>\n",
       "      <td>1.000000</td>\n",
       "      <td>0.047692</td>\n",
       "      <td>-0.433862</td>\n",
       "      <td>0.050214</td>\n",
       "      <td>-0.117125</td>\n",
       "      <td>0.000740</td>\n",
       "      <td>-0.009651</td>\n",
       "      <td>-0.016108</td>\n",
       "      <td>0.015208</td>\n",
       "      <td>0.096230</td>\n",
       "      <td>-0.133048</td>\n",
       "      <td>-0.143806</td>\n",
       "      <td>-0.121564</td>\n",
       "    </tr>\n",
       "    <tr>\n",
       "      <th>Department</th>\n",
       "      <td>-0.001623</td>\n",
       "      <td>-0.001623</td>\n",
       "      <td>0.001087</td>\n",
       "      <td>0.001659</td>\n",
       "      <td>0.029753</td>\n",
       "      <td>0.041584</td>\n",
       "      <td>0.047692</td>\n",
       "      <td>1.000000</td>\n",
       "      <td>-0.005936</td>\n",
       "      <td>-0.040463</td>\n",
       "      <td>-0.096995</td>\n",
       "      <td>0.002533</td>\n",
       "      <td>0.019649</td>\n",
       "      <td>-0.079997</td>\n",
       "      <td>-0.007832</td>\n",
       "      <td>0.025502</td>\n",
       "      <td>0.035651</td>\n",
       "      <td>-0.081019</td>\n",
       "      <td>0.032712</td>\n",
       "    </tr>\n",
       "    <tr>\n",
       "      <th>Ward_Type</th>\n",
       "      <td>-0.029023</td>\n",
       "      <td>-0.029023</td>\n",
       "      <td>0.160744</td>\n",
       "      <td>0.245948</td>\n",
       "      <td>0.122430</td>\n",
       "      <td>0.077406</td>\n",
       "      <td>-0.433862</td>\n",
       "      <td>-0.005936</td>\n",
       "      <td>1.000000</td>\n",
       "      <td>-0.154861</td>\n",
       "      <td>-0.012769</td>\n",
       "      <td>0.000642</td>\n",
       "      <td>0.015964</td>\n",
       "      <td>0.012390</td>\n",
       "      <td>0.001162</td>\n",
       "      <td>-0.095961</td>\n",
       "      <td>0.024301</td>\n",
       "      <td>0.050906</td>\n",
       "      <td>0.185755</td>\n",
       "    </tr>\n",
       "    <tr>\n",
       "      <th>Ward_Facility_Code</th>\n",
       "      <td>-0.012671</td>\n",
       "      <td>-0.012671</td>\n",
       "      <td>-0.132051</td>\n",
       "      <td>-0.265238</td>\n",
       "      <td>-0.100236</td>\n",
       "      <td>-0.506425</td>\n",
       "      <td>0.050214</td>\n",
       "      <td>-0.040463</td>\n",
       "      <td>-0.154861</td>\n",
       "      <td>1.000000</td>\n",
       "      <td>0.075247</td>\n",
       "      <td>0.001791</td>\n",
       "      <td>-0.140853</td>\n",
       "      <td>0.044292</td>\n",
       "      <td>0.014971</td>\n",
       "      <td>0.021532</td>\n",
       "      <td>-0.000449</td>\n",
       "      <td>-0.022918</td>\n",
       "      <td>-0.004777</td>\n",
       "    </tr>\n",
       "    <tr>\n",
       "      <th>Bed_Grade</th>\n",
       "      <td>0.012282</td>\n",
       "      <td>0.012282</td>\n",
       "      <td>-0.013627</td>\n",
       "      <td>0.019073</td>\n",
       "      <td>-0.048096</td>\n",
       "      <td>-0.041018</td>\n",
       "      <td>-0.117125</td>\n",
       "      <td>-0.096995</td>\n",
       "      <td>-0.012769</td>\n",
       "      <td>0.075247</td>\n",
       "      <td>1.000000</td>\n",
       "      <td>0.002062</td>\n",
       "      <td>-0.008105</td>\n",
       "      <td>0.127719</td>\n",
       "      <td>0.050360</td>\n",
       "      <td>0.088195</td>\n",
       "      <td>0.002037</td>\n",
       "      <td>0.074930</td>\n",
       "      <td>0.025056</td>\n",
       "    </tr>\n",
       "    <tr>\n",
       "      <th>patientid</th>\n",
       "      <td>-0.003871</td>\n",
       "      <td>-0.003871</td>\n",
       "      <td>0.002262</td>\n",
       "      <td>-0.002992</td>\n",
       "      <td>0.000837</td>\n",
       "      <td>-0.002246</td>\n",
       "      <td>0.000740</td>\n",
       "      <td>0.002533</td>\n",
       "      <td>0.000642</td>\n",
       "      <td>0.001791</td>\n",
       "      <td>0.002062</td>\n",
       "      <td>1.000000</td>\n",
       "      <td>0.002020</td>\n",
       "      <td>0.002052</td>\n",
       "      <td>0.004442</td>\n",
       "      <td>0.006863</td>\n",
       "      <td>-0.001341</td>\n",
       "      <td>-0.000748</td>\n",
       "      <td>0.000932</td>\n",
       "    </tr>\n",
       "    <tr>\n",
       "      <th>City_Code_Patient</th>\n",
       "      <td>0.065213</td>\n",
       "      <td>0.065213</td>\n",
       "      <td>-0.015709</td>\n",
       "      <td>0.055662</td>\n",
       "      <td>-0.023951</td>\n",
       "      <td>0.152212</td>\n",
       "      <td>-0.009651</td>\n",
       "      <td>0.019649</td>\n",
       "      <td>0.015964</td>\n",
       "      <td>-0.140853</td>\n",
       "      <td>-0.008105</td>\n",
       "      <td>0.002020</td>\n",
       "      <td>1.000000</td>\n",
       "      <td>-0.026777</td>\n",
       "      <td>-0.007870</td>\n",
       "      <td>-0.012107</td>\n",
       "      <td>-0.016393</td>\n",
       "      <td>0.025803</td>\n",
       "      <td>-0.009779</td>\n",
       "    </tr>\n",
       "    <tr>\n",
       "      <th>Type_of_Admission</th>\n",
       "      <td>0.077930</td>\n",
       "      <td>0.077930</td>\n",
       "      <td>-0.014711</td>\n",
       "      <td>0.079959</td>\n",
       "      <td>-0.016807</td>\n",
       "      <td>0.004488</td>\n",
       "      <td>-0.016108</td>\n",
       "      <td>-0.079997</td>\n",
       "      <td>0.012390</td>\n",
       "      <td>0.044292</td>\n",
       "      <td>0.127719</td>\n",
       "      <td>0.002052</td>\n",
       "      <td>-0.026777</td>\n",
       "      <td>1.000000</td>\n",
       "      <td>0.011369</td>\n",
       "      <td>-0.097549</td>\n",
       "      <td>-0.062900</td>\n",
       "      <td>0.042917</td>\n",
       "      <td>0.024232</td>\n",
       "    </tr>\n",
       "    <tr>\n",
       "      <th>Severity_of_Illness</th>\n",
       "      <td>0.014915</td>\n",
       "      <td>0.014915</td>\n",
       "      <td>-0.008116</td>\n",
       "      <td>-0.004751</td>\n",
       "      <td>-0.000093</td>\n",
       "      <td>-0.006144</td>\n",
       "      <td>0.015208</td>\n",
       "      <td>-0.007832</td>\n",
       "      <td>0.001162</td>\n",
       "      <td>0.014971</td>\n",
       "      <td>0.050360</td>\n",
       "      <td>0.004442</td>\n",
       "      <td>-0.007870</td>\n",
       "      <td>0.011369</td>\n",
       "      <td>1.000000</td>\n",
       "      <td>-0.020648</td>\n",
       "      <td>-0.036510</td>\n",
       "      <td>0.023960</td>\n",
       "      <td>-0.031346</td>\n",
       "    </tr>\n",
       "    <tr>\n",
       "      <th>Visitors_with_Patient</th>\n",
       "      <td>0.000647</td>\n",
       "      <td>0.000647</td>\n",
       "      <td>-0.028103</td>\n",
       "      <td>-0.045036</td>\n",
       "      <td>0.019330</td>\n",
       "      <td>-0.018559</td>\n",
       "      <td>0.096230</td>\n",
       "      <td>0.025502</td>\n",
       "      <td>-0.095961</td>\n",
       "      <td>0.021532</td>\n",
       "      <td>0.088195</td>\n",
       "      <td>0.006863</td>\n",
       "      <td>-0.012107</td>\n",
       "      <td>-0.097549</td>\n",
       "      <td>-0.020648</td>\n",
       "      <td>1.000000</td>\n",
       "      <td>0.074167</td>\n",
       "      <td>-0.149940</td>\n",
       "      <td>0.537476</td>\n",
       "    </tr>\n",
       "    <tr>\n",
       "      <th>Age</th>\n",
       "      <td>-0.115396</td>\n",
       "      <td>-0.115396</td>\n",
       "      <td>0.016279</td>\n",
       "      <td>0.006312</td>\n",
       "      <td>0.020499</td>\n",
       "      <td>-0.017653</td>\n",
       "      <td>-0.133048</td>\n",
       "      <td>0.035651</td>\n",
       "      <td>0.024301</td>\n",
       "      <td>-0.000449</td>\n",
       "      <td>0.002037</td>\n",
       "      <td>-0.001341</td>\n",
       "      <td>-0.016393</td>\n",
       "      <td>-0.062900</td>\n",
       "      <td>-0.036510</td>\n",
       "      <td>0.074167</td>\n",
       "      <td>1.000000</td>\n",
       "      <td>0.025328</td>\n",
       "      <td>0.093955</td>\n",
       "    </tr>\n",
       "    <tr>\n",
       "      <th>Admission_Deposit</th>\n",
       "      <td>-0.045276</td>\n",
       "      <td>-0.045276</td>\n",
       "      <td>0.044950</td>\n",
       "      <td>0.025788</td>\n",
       "      <td>-0.035185</td>\n",
       "      <td>0.074788</td>\n",
       "      <td>-0.143806</td>\n",
       "      <td>-0.081019</td>\n",
       "      <td>0.050906</td>\n",
       "      <td>-0.022918</td>\n",
       "      <td>0.074930</td>\n",
       "      <td>-0.000748</td>\n",
       "      <td>0.025803</td>\n",
       "      <td>0.042917</td>\n",
       "      <td>0.023960</td>\n",
       "      <td>-0.149940</td>\n",
       "      <td>0.025328</td>\n",
       "      <td>1.000000</td>\n",
       "      <td>-0.052092</td>\n",
       "    </tr>\n",
       "    <tr>\n",
       "      <th>Stay</th>\n",
       "      <td>-0.054310</td>\n",
       "      <td>-0.054310</td>\n",
       "      <td>0.042894</td>\n",
       "      <td>0.058973</td>\n",
       "      <td>0.006626</td>\n",
       "      <td>0.012002</td>\n",
       "      <td>-0.121564</td>\n",
       "      <td>0.032712</td>\n",
       "      <td>0.185755</td>\n",
       "      <td>-0.004777</td>\n",
       "      <td>0.025056</td>\n",
       "      <td>0.000932</td>\n",
       "      <td>-0.009779</td>\n",
       "      <td>0.024232</td>\n",
       "      <td>-0.031346</td>\n",
       "      <td>0.537476</td>\n",
       "      <td>0.093955</td>\n",
       "      <td>-0.052092</td>\n",
       "      <td>1.000000</td>\n",
       "    </tr>\n",
       "  </tbody>\n",
       "</table>\n",
       "</div>"
      ],
      "text/plain": [
       "                         Unnamed: 0   case_id  Hospital_code  \\\n",
       "Unnamed: 0                 1.000000  1.000000      -0.042911   \n",
       "case_id                    1.000000  1.000000      -0.042911   \n",
       "Hospital_code             -0.042911 -0.042911       1.000000   \n",
       "Hospital_type_code         0.002237  0.002237       0.038583   \n",
       "City_Code_Hospital        -0.010386 -0.010386       0.128403   \n",
       "Hospital_region_code       0.007698  0.007698      -0.137322   \n",
       "Available_Rooms_in_Hspl    0.042452  0.042452      -0.059348   \n",
       "Department                -0.001623 -0.001623       0.001087   \n",
       "Ward_Type                 -0.029023 -0.029023       0.160744   \n",
       "Ward_Facility_Code        -0.012671 -0.012671      -0.132051   \n",
       "Bed_Grade                  0.012282  0.012282      -0.013627   \n",
       "patientid                 -0.003871 -0.003871       0.002262   \n",
       "City_Code_Patient          0.065213  0.065213      -0.015709   \n",
       "Type_of_Admission          0.077930  0.077930      -0.014711   \n",
       "Severity_of_Illness        0.014915  0.014915      -0.008116   \n",
       "Visitors_with_Patient      0.000647  0.000647      -0.028103   \n",
       "Age                       -0.115396 -0.115396       0.016279   \n",
       "Admission_Deposit         -0.045276 -0.045276       0.044950   \n",
       "Stay                      -0.054310 -0.054310       0.042894   \n",
       "\n",
       "                         Hospital_type_code  City_Code_Hospital  \\\n",
       "Unnamed: 0                         0.002237           -0.010386   \n",
       "case_id                            0.002237           -0.010386   \n",
       "Hospital_code                      0.038583            0.128403   \n",
       "Hospital_type_code                 1.000000           -0.000409   \n",
       "City_Code_Hospital                -0.000409            1.000000   \n",
       "Hospital_region_code               0.268847            0.006642   \n",
       "Available_Rooms_in_Hspl           -0.102795           -0.045547   \n",
       "Department                         0.001659            0.029753   \n",
       "Ward_Type                          0.245948            0.122430   \n",
       "Ward_Facility_Code                -0.265238           -0.100236   \n",
       "Bed_Grade                          0.019073           -0.048096   \n",
       "patientid                         -0.002992            0.000837   \n",
       "City_Code_Patient                  0.055662           -0.023951   \n",
       "Type_of_Admission                  0.079959           -0.016807   \n",
       "Severity_of_Illness               -0.004751           -0.000093   \n",
       "Visitors_with_Patient             -0.045036            0.019330   \n",
       "Age                                0.006312            0.020499   \n",
       "Admission_Deposit                  0.025788           -0.035185   \n",
       "Stay                               0.058973            0.006626   \n",
       "\n",
       "                         Hospital_region_code  Available_Rooms_in_Hspl  \\\n",
       "Unnamed: 0                           0.007698                 0.042452   \n",
       "case_id                              0.007698                 0.042452   \n",
       "Hospital_code                       -0.137322                -0.059348   \n",
       "Hospital_type_code                   0.268847                -0.102795   \n",
       "City_Code_Hospital                   0.006642                -0.045547   \n",
       "Hospital_region_code                 1.000000                -0.006193   \n",
       "Available_Rooms_in_Hspl             -0.006193                 1.000000   \n",
       "Department                           0.041584                 0.047692   \n",
       "Ward_Type                            0.077406                -0.433862   \n",
       "Ward_Facility_Code                  -0.506425                 0.050214   \n",
       "Bed_Grade                           -0.041018                -0.117125   \n",
       "patientid                           -0.002246                 0.000740   \n",
       "City_Code_Patient                    0.152212                -0.009651   \n",
       "Type_of_Admission                    0.004488                -0.016108   \n",
       "Severity_of_Illness                 -0.006144                 0.015208   \n",
       "Visitors_with_Patient               -0.018559                 0.096230   \n",
       "Age                                 -0.017653                -0.133048   \n",
       "Admission_Deposit                    0.074788                -0.143806   \n",
       "Stay                                 0.012002                -0.121564   \n",
       "\n",
       "                         Department  Ward_Type  Ward_Facility_Code  Bed_Grade  \\\n",
       "Unnamed: 0                -0.001623  -0.029023           -0.012671   0.012282   \n",
       "case_id                   -0.001623  -0.029023           -0.012671   0.012282   \n",
       "Hospital_code              0.001087   0.160744           -0.132051  -0.013627   \n",
       "Hospital_type_code         0.001659   0.245948           -0.265238   0.019073   \n",
       "City_Code_Hospital         0.029753   0.122430           -0.100236  -0.048096   \n",
       "Hospital_region_code       0.041584   0.077406           -0.506425  -0.041018   \n",
       "Available_Rooms_in_Hspl    0.047692  -0.433862            0.050214  -0.117125   \n",
       "Department                 1.000000  -0.005936           -0.040463  -0.096995   \n",
       "Ward_Type                 -0.005936   1.000000           -0.154861  -0.012769   \n",
       "Ward_Facility_Code        -0.040463  -0.154861            1.000000   0.075247   \n",
       "Bed_Grade                 -0.096995  -0.012769            0.075247   1.000000   \n",
       "patientid                  0.002533   0.000642            0.001791   0.002062   \n",
       "City_Code_Patient          0.019649   0.015964           -0.140853  -0.008105   \n",
       "Type_of_Admission         -0.079997   0.012390            0.044292   0.127719   \n",
       "Severity_of_Illness       -0.007832   0.001162            0.014971   0.050360   \n",
       "Visitors_with_Patient      0.025502  -0.095961            0.021532   0.088195   \n",
       "Age                        0.035651   0.024301           -0.000449   0.002037   \n",
       "Admission_Deposit         -0.081019   0.050906           -0.022918   0.074930   \n",
       "Stay                       0.032712   0.185755           -0.004777   0.025056   \n",
       "\n",
       "                         patientid  City_Code_Patient  Type_of_Admission  \\\n",
       "Unnamed: 0               -0.003871           0.065213           0.077930   \n",
       "case_id                  -0.003871           0.065213           0.077930   \n",
       "Hospital_code             0.002262          -0.015709          -0.014711   \n",
       "Hospital_type_code       -0.002992           0.055662           0.079959   \n",
       "City_Code_Hospital        0.000837          -0.023951          -0.016807   \n",
       "Hospital_region_code     -0.002246           0.152212           0.004488   \n",
       "Available_Rooms_in_Hspl   0.000740          -0.009651          -0.016108   \n",
       "Department                0.002533           0.019649          -0.079997   \n",
       "Ward_Type                 0.000642           0.015964           0.012390   \n",
       "Ward_Facility_Code        0.001791          -0.140853           0.044292   \n",
       "Bed_Grade                 0.002062          -0.008105           0.127719   \n",
       "patientid                 1.000000           0.002020           0.002052   \n",
       "City_Code_Patient         0.002020           1.000000          -0.026777   \n",
       "Type_of_Admission         0.002052          -0.026777           1.000000   \n",
       "Severity_of_Illness       0.004442          -0.007870           0.011369   \n",
       "Visitors_with_Patient     0.006863          -0.012107          -0.097549   \n",
       "Age                      -0.001341          -0.016393          -0.062900   \n",
       "Admission_Deposit        -0.000748           0.025803           0.042917   \n",
       "Stay                      0.000932          -0.009779           0.024232   \n",
       "\n",
       "                         Severity_of_Illness  Visitors_with_Patient       Age  \\\n",
       "Unnamed: 0                          0.014915               0.000647 -0.115396   \n",
       "case_id                             0.014915               0.000647 -0.115396   \n",
       "Hospital_code                      -0.008116              -0.028103  0.016279   \n",
       "Hospital_type_code                 -0.004751              -0.045036  0.006312   \n",
       "City_Code_Hospital                 -0.000093               0.019330  0.020499   \n",
       "Hospital_region_code               -0.006144              -0.018559 -0.017653   \n",
       "Available_Rooms_in_Hspl             0.015208               0.096230 -0.133048   \n",
       "Department                         -0.007832               0.025502  0.035651   \n",
       "Ward_Type                           0.001162              -0.095961  0.024301   \n",
       "Ward_Facility_Code                  0.014971               0.021532 -0.000449   \n",
       "Bed_Grade                           0.050360               0.088195  0.002037   \n",
       "patientid                           0.004442               0.006863 -0.001341   \n",
       "City_Code_Patient                  -0.007870              -0.012107 -0.016393   \n",
       "Type_of_Admission                   0.011369              -0.097549 -0.062900   \n",
       "Severity_of_Illness                 1.000000              -0.020648 -0.036510   \n",
       "Visitors_with_Patient              -0.020648               1.000000  0.074167   \n",
       "Age                                -0.036510               0.074167  1.000000   \n",
       "Admission_Deposit                   0.023960              -0.149940  0.025328   \n",
       "Stay                               -0.031346               0.537476  0.093955   \n",
       "\n",
       "                         Admission_Deposit      Stay  \n",
       "Unnamed: 0                       -0.045276 -0.054310  \n",
       "case_id                          -0.045276 -0.054310  \n",
       "Hospital_code                     0.044950  0.042894  \n",
       "Hospital_type_code                0.025788  0.058973  \n",
       "City_Code_Hospital               -0.035185  0.006626  \n",
       "Hospital_region_code              0.074788  0.012002  \n",
       "Available_Rooms_in_Hspl          -0.143806 -0.121564  \n",
       "Department                       -0.081019  0.032712  \n",
       "Ward_Type                         0.050906  0.185755  \n",
       "Ward_Facility_Code               -0.022918 -0.004777  \n",
       "Bed_Grade                         0.074930  0.025056  \n",
       "patientid                        -0.000748  0.000932  \n",
       "City_Code_Patient                 0.025803 -0.009779  \n",
       "Type_of_Admission                 0.042917  0.024232  \n",
       "Severity_of_Illness               0.023960 -0.031346  \n",
       "Visitors_with_Patient            -0.149940  0.537476  \n",
       "Age                               0.025328  0.093955  \n",
       "Admission_Deposit                 1.000000 -0.052092  \n",
       "Stay                             -0.052092  1.000000  "
      ]
     },
     "execution_count": 36,
     "metadata": {},
     "output_type": "execute_result"
    }
   ],
   "source": [
    "corr=data_train.corr()\n",
    "corr"
   ]
  },
  {
   "cell_type": "code",
   "execution_count": 37,
   "metadata": {},
   "outputs": [],
   "source": [
    "data_train=data_train.drop(['Unnamed: 0'],axis=1)"
   ]
  },
  {
   "cell_type": "markdown",
   "metadata": {},
   "source": [
    "# Assumptions"
   ]
  },
  {
   "cell_type": "markdown",
   "metadata": {},
   "source": [
    "## A. Multicollinearity"
   ]
  },
  {
   "cell_type": "code",
   "execution_count": 38,
   "metadata": {},
   "outputs": [],
   "source": [
    "from statsmodels.stats.outliers_influence import variance_inflation_factor\n",
    "from statsmodels.tools.tools import add_constant"
   ]
  },
  {
   "cell_type": "code",
   "execution_count": 39,
   "metadata": {},
   "outputs": [
    {
     "name": "stdout",
     "output_type": "stream",
     "text": [
      "VIF:\n"
     ]
    },
    {
     "data": {
      "text/plain": [
       "const                      116.250321\n",
       "case_id                      1.031644\n",
       "Hospital_code                1.121435\n",
       "Hospital_type_code           1.174378\n",
       "City_Code_Hospital           1.044353\n",
       "Hospital_region_code         1.494766\n",
       "Available_Rooms_in_Hspl      1.322277\n",
       "Department                   1.026068\n",
       "Ward_Type                    1.418444\n",
       "Ward_Facility_Code           1.492384\n",
       "Bed_Grade                    1.074151\n",
       "patientid                    1.000150\n",
       "City_Code_Patient            1.036746\n",
       "Type_of_Admission            1.064815\n",
       "Severity_of_Illness          1.006128\n",
       "Visitors_with_Patient        1.592801\n",
       "Age                          1.048124\n",
       "Admission_Deposit            1.067225\n",
       "Stay                         1.581080\n",
       "dtype: float64"
      ]
     },
     "execution_count": 39,
     "metadata": {},
     "output_type": "execute_result"
    }
   ],
   "source": [
    "X = add_constant(data_train)\n",
    "print (\"VIF:\")\n",
    "pd.Series([variance_inflation_factor(X.values, i) for i in range(X.shape[1])], index=X.columns)"
   ]
  },
  {
   "cell_type": "markdown",
   "metadata": {},
   "source": [
    "####  If VIF is more than 10, then multicollinearity is taken to be high. It can be seen that all the values are very less than 10, which indicates the absence of multicollinearity.\n"
   ]
  },
  {
   "cell_type": "markdown",
   "metadata": {},
   "source": [
    "## B. Outliers"
   ]
  },
  {
   "cell_type": "code",
   "execution_count": 40,
   "metadata": {
    "collapsed": true
   },
   "outputs": [
    {
     "data": {
      "image/png": "[encoded data removed]",
      "text/plain": [
       "<Figure size 432x288 with 1 Axes>"
      ]
     },
     "metadata": {
      "needs_background": "light"
     },
     "output_type": "display_data"
    }
   ],
   "source": [
    "ssc = sns.boxplot(data= data_train[['Hospital_code']])"
   ]
  },
  {
   "cell_type": "code",
   "execution_count": 41,
   "metadata": {
    "collapsed": true
   },
   "outputs": [
    {
     "data": {
      "image/png": "[encoded data removed]",
      "text/plain": [
       "<Figure size 432x288 with 1 Axes>"
      ]
     },
     "metadata": {
      "needs_background": "light"
     },
     "output_type": "display_data"
    }
   ],
   "source": [
    "ssc = sns.boxplot(data= data_train[['Hospital_type_code']])"
   ]
  },
  {
   "cell_type": "code",
   "execution_count": 42,
   "metadata": {
    "collapsed": true
   },
   "outputs": [
    {
     "data": {
      "image/png": "[encoded data removed]",
      "text/plain": [
       "<Figure size 432x288 with 1 Axes>"
      ]
     },
     "metadata": {
      "needs_background": "light"
     },
     "output_type": "display_data"
    }
   ],
   "source": [
    "ssc = sns.boxplot(data= data_train[['City_Code_Hospital']])"
   ]
  },
  {
   "cell_type": "code",
   "execution_count": 43,
   "metadata": {
    "collapsed": true
   },
   "outputs": [
    {
     "data": {
      "image/png": "[encoded data removed]",
      "text/plain": [
       "<Figure size 432x288 with 1 Axes>"
      ]
     },
     "metadata": {
      "needs_background": "light"
     },
     "output_type": "display_data"
    }
   ],
   "source": [
    "ssc = sns.boxplot(data= data_train[['Hospital_region_code']])"
   ]
  },
  {
   "cell_type": "code",
   "execution_count": 44,
   "metadata": {
    "collapsed": true
   },
   "outputs": [
    {
     "data": {
      "image/png": "[encoded data removed]",
      "text/plain": [
       "<Figure size 432x288 with 1 Axes>"
      ]
     },
     "metadata": {
      "needs_background": "light"
     },
     "output_type": "display_data"
    }
   ],
   "source": [
    "ssc = sns.boxplot(data= data_train[['Available_Rooms_in_Hspl']])"
   ]
  },
  {
   "cell_type": "code",
   "execution_count": 45,
   "metadata": {
    "collapsed": true
   },
   "outputs": [
    {
     "data": {
      "image/png": "[encoded data removed]",
      "text/plain": [
       "<Figure size 432x288 with 1 Axes>"
      ]
     },
     "metadata": {
      "needs_background": "light"
     },
     "output_type": "display_data"
    }
   ],
   "source": [
    "ssc = sns.boxplot(data= data_train[['Department']])"
   ]
  },
  {
   "cell_type": "code",
   "execution_count": 46,
   "metadata": {
    "collapsed": true
   },
   "outputs": [
    {
     "data": {
      "image/png": "[encoded data removed]",
      "text/plain": [
       "<Figure size 432x288 with 1 Axes>"
      ]
     },
     "metadata": {
      "needs_background": "light"
     },
     "output_type": "display_data"
    }
   ],
   "source": [
    "ssc = sns.boxplot(data= data_train[['Ward_Type']])"
   ]
  },
  {
   "cell_type": "code",
   "execution_count": 47,
   "metadata": {
    "collapsed": true
   },
   "outputs": [
    {
     "data": {
      "image/png": "[encoded data removed]",
      "text/plain": [
       "<Figure size 432x288 with 1 Axes>"
      ]
     },
     "metadata": {
      "needs_background": "light"
     },
     "output_type": "display_data"
    }
   ],
   "source": [
    "ssc = sns.boxplot(data= data_train[['Ward_Facility_Code']])"
   ]
  },
  {
   "cell_type": "code",
   "execution_count": 48,
   "metadata": {
    "collapsed": true
   },
   "outputs": [
    {
     "data": {
      "image/png": "[encoded data removed]",
      "text/plain": [
       "<Figure size 432x288 with 1 Axes>"
      ]
     },
     "metadata": {
      "needs_background": "light"
     },
     "output_type": "display_data"
    }
   ],
   "source": [
    "ssc = sns.boxplot(data= data_train[['Bed_Grade']])"
   ]
  },
  {
   "cell_type": "code",
   "execution_count": 49,
   "metadata": {
    "collapsed": true
   },
   "outputs": [
    {
     "data": {
      "image/png": "[encoded data removed]",
      "text/plain": [
       "<Figure size 432x288 with 1 Axes>"
      ]
     },
     "metadata": {
      "needs_background": "light"
     },
     "output_type": "display_data"
    }
   ],
   "source": [
    "ssc = sns.boxplot(data= data_train[['City_Code_Patient']])"
   ]
  },
  {
   "cell_type": "code",
   "execution_count": 50,
   "metadata": {
    "collapsed": true
   },
   "outputs": [
    {
     "data": {
      "image/png": "[encoded data removed]",
      "text/plain": [
       "<Figure size 432x288 with 1 Axes>"
      ]
     },
     "metadata": {
      "needs_background": "light"
     },
     "output_type": "display_data"
    }
   ],
   "source": [
    "ssc = sns.boxplot(data= data_train[['Type_of_Admission']])"
   ]
  },
  {
   "cell_type": "code",
   "execution_count": 51,
   "metadata": {
    "collapsed": true
   },
   "outputs": [
    {
     "data": {
      "image/png": "[encoded data removed]",
      "text/plain": [
       "<Figure size 432x288 with 1 Axes>"
      ]
     },
     "metadata": {
      "needs_background": "light"
     },
     "output_type": "display_data"
    }
   ],
   "source": [
    "ssc = sns.boxplot(data= data_train[['Severity_of_Illness']])"
   ]
  },
  {
   "cell_type": "code",
   "execution_count": 52,
   "metadata": {
    "collapsed": true
   },
   "outputs": [
    {
     "data": {
      "image/png": "[encoded data removed]",
      "text/plain": [
       "<Figure size 432x288 with 1 Axes>"
      ]
     },
     "metadata": {
      "needs_background": "light"
     },
     "output_type": "display_data"
    }
   ],
   "source": [
    "ssc = sns.boxplot(data= data_train[['Visitors_with_Patient']])"
   ]
  },
  {
   "cell_type": "code",
   "execution_count": 53,
   "metadata": {
    "collapsed": true
   },
   "outputs": [
    {
     "data": {
      "image/png": "[encoded data removed]",
      "text/plain": [
       "<Figure size 432x288 with 1 Axes>"
      ]
     },
     "metadata": {
      "needs_background": "light"
     },
     "output_type": "display_data"
    }
   ],
   "source": [
    "ssc = sns.boxplot(data= data_train[['Age']])"
   ]
  },
  {
   "cell_type": "code",
   "execution_count": 54,
   "metadata": {
    "collapsed": true
   },
   "outputs": [
    {
     "data": {
      "image/png": "[encoded data removed]",
      "text/plain": [
       "<Figure size 432x288 with 1 Axes>"
      ]
     },
     "metadata": {
      "needs_background": "light"
     },
     "output_type": "display_data"
    }
   ],
   "source": [
    "ssc = sns.boxplot(data= data_train[['Admission_Deposit']])"
   ]
  },
  {
   "cell_type": "markdown",
   "metadata": {},
   "source": [
    "### There are a lot of outliers present in the columns 'Available_Rooms_in_Hspl', 'City_Code_Patient', 'Visitors_with_Patient', and 'Admission_Deposit', so we remove those using Z-Score."
   ]
  },
  {
   "cell_type": "code",
   "execution_count": 55,
   "metadata": {},
   "outputs": [
    {
     "name": "stdout",
     "output_type": "stream",
     "text": [
      "[[1.72871456 1.19607352 0.4834244  ... 0.4613891  0.0267959  1.25516928]\n",
      " [1.72870368 1.89103285 0.4834244  ... 0.4613891  0.9869869  0.60709732]\n",
      " [1.72869281 0.96442042 1.78607135 ... 0.4613891  0.12602453 0.14153067]\n",
      " ...\n",
      " [1.73481834 1.31190008 0.81922256 ... 1.51925175 0.59553307 0.78960263]\n",
      " [1.73482922 0.84859386 0.16789908 ... 1.6543362  1.03189984 0.78960263]\n",
      " [1.7348401  0.07801856 0.81922256 ... 1.6543362  0.1195803  1.25516928]]\n"
     ]
    }
   ],
   "source": [
    "from scipy import stats\n",
    "z = np.abs(stats.zscore(data_train))\n",
    "print(z)"
   ]
  },
  {
   "cell_type": "code",
   "execution_count": 56,
   "metadata": {},
   "outputs": [
    {
     "name": "stdout",
     "output_type": "stream",
     "text": [
      "(array([    10,     13,     15, ..., 313782, 313787, 313788], dtype=int64), array([ 2, 16, 16, ...,  6, 16, 11], dtype=int64))\n"
     ]
    }
   ],
   "source": [
    "threshold = 3\n",
    "print(np.where(z > 3))"
   ]
  },
  {
   "cell_type": "code",
   "execution_count": 57,
   "metadata": {},
   "outputs": [],
   "source": [
    "data_train_o = data_train[(z < 3).all(axis=1)]"
   ]
  },
  {
   "cell_type": "code",
   "execution_count": 58,
   "metadata": {},
   "outputs": [
    {
     "data": {
      "text/html": [
       "<div>\n",
       "<style scoped>\n",
       "    .dataframe tbody tr th:only-of-type {\n",
       "        vertical-align: middle;\n",
       "    }\n",
       "\n",
       "    .dataframe tbody tr th {\n",
       "        vertical-align: top;\n",
       "    }\n",
       "\n",
       "    .dataframe thead th {\n",
       "        text-align: right;\n",
       "    }\n",
       "</style>\n",
       "<table border=\"1\" class=\"dataframe\">\n",
       "  <thead>\n",
       "    <tr style=\"text-align: right;\">\n",
       "      <th></th>\n",
       "      <th>case_id</th>\n",
       "      <th>Hospital_code</th>\n",
       "      <th>Hospital_type_code</th>\n",
       "      <th>City_Code_Hospital</th>\n",
       "      <th>Hospital_region_code</th>\n",
       "      <th>Available_Rooms_in_Hspl</th>\n",
       "      <th>Department</th>\n",
       "      <th>Ward_Type</th>\n",
       "      <th>Ward_Facility_Code</th>\n",
       "      <th>Bed_Grade</th>\n",
       "      <th>patientid</th>\n",
       "      <th>City_Code_Patient</th>\n",
       "      <th>Type_of_Admission</th>\n",
       "      <th>Severity_of_Illness</th>\n",
       "      <th>Visitors_with_Patient</th>\n",
       "      <th>Age</th>\n",
       "      <th>Admission_Deposit</th>\n",
       "      <th>Stay</th>\n",
       "    </tr>\n",
       "  </thead>\n",
       "  <tbody>\n",
       "    <tr>\n",
       "      <th>0</th>\n",
       "      <td>1</td>\n",
       "      <td>8</td>\n",
       "      <td>2</td>\n",
       "      <td>3</td>\n",
       "      <td>2</td>\n",
       "      <td>3</td>\n",
       "      <td>3</td>\n",
       "      <td>2</td>\n",
       "      <td>5</td>\n",
       "      <td>2.0</td>\n",
       "      <td>31397</td>\n",
       "      <td>7.0</td>\n",
       "      <td>0</td>\n",
       "      <td>0</td>\n",
       "      <td>2</td>\n",
       "      <td>5</td>\n",
       "      <td>4911.0</td>\n",
       "      <td>0</td>\n",
       "    </tr>\n",
       "    <tr>\n",
       "      <th>1</th>\n",
       "      <td>2</td>\n",
       "      <td>2</td>\n",
       "      <td>2</td>\n",
       "      <td>5</td>\n",
       "      <td>2</td>\n",
       "      <td>2</td>\n",
       "      <td>3</td>\n",
       "      <td>3</td>\n",
       "      <td>5</td>\n",
       "      <td>2.0</td>\n",
       "      <td>31397</td>\n",
       "      <td>7.0</td>\n",
       "      <td>1</td>\n",
       "      <td>0</td>\n",
       "      <td>2</td>\n",
       "      <td>5</td>\n",
       "      <td>5954.0</td>\n",
       "      <td>4</td>\n",
       "    </tr>\n",
       "    <tr>\n",
       "      <th>2</th>\n",
       "      <td>3</td>\n",
       "      <td>10</td>\n",
       "      <td>4</td>\n",
       "      <td>1</td>\n",
       "      <td>0</td>\n",
       "      <td>2</td>\n",
       "      <td>1</td>\n",
       "      <td>3</td>\n",
       "      <td>4</td>\n",
       "      <td>2.0</td>\n",
       "      <td>31397</td>\n",
       "      <td>7.0</td>\n",
       "      <td>1</td>\n",
       "      <td>0</td>\n",
       "      <td>2</td>\n",
       "      <td>5</td>\n",
       "      <td>4745.0</td>\n",
       "      <td>3</td>\n",
       "    </tr>\n",
       "    <tr>\n",
       "      <th>3</th>\n",
       "      <td>4</td>\n",
       "      <td>26</td>\n",
       "      <td>1</td>\n",
       "      <td>2</td>\n",
       "      <td>1</td>\n",
       "      <td>2</td>\n",
       "      <td>3</td>\n",
       "      <td>2</td>\n",
       "      <td>3</td>\n",
       "      <td>2.0</td>\n",
       "      <td>31397</td>\n",
       "      <td>7.0</td>\n",
       "      <td>1</td>\n",
       "      <td>0</td>\n",
       "      <td>2</td>\n",
       "      <td>5</td>\n",
       "      <td>7272.0</td>\n",
       "      <td>4</td>\n",
       "    </tr>\n",
       "    <tr>\n",
       "      <th>4</th>\n",
       "      <td>5</td>\n",
       "      <td>26</td>\n",
       "      <td>1</td>\n",
       "      <td>2</td>\n",
       "      <td>1</td>\n",
       "      <td>2</td>\n",
       "      <td>3</td>\n",
       "      <td>3</td>\n",
       "      <td>3</td>\n",
       "      <td>2.0</td>\n",
       "      <td>31397</td>\n",
       "      <td>7.0</td>\n",
       "      <td>1</td>\n",
       "      <td>0</td>\n",
       "      <td>2</td>\n",
       "      <td>5</td>\n",
       "      <td>5558.0</td>\n",
       "      <td>4</td>\n",
       "    </tr>\n",
       "  </tbody>\n",
       "</table>\n",
       "</div>"
      ],
      "text/plain": [
       "   case_id  Hospital_code  Hospital_type_code  City_Code_Hospital  \\\n",
       "0        1              8                   2                   3   \n",
       "1        2              2                   2                   5   \n",
       "2        3             10                   4                   1   \n",
       "3        4             26                   1                   2   \n",
       "4        5             26                   1                   2   \n",
       "\n",
       "   Hospital_region_code  Available_Rooms_in_Hspl  Department  Ward_Type  \\\n",
       "0                     2                        3           3          2   \n",
       "1                     2                        2           3          3   \n",
       "2                     0                        2           1          3   \n",
       "3                     1                        2           3          2   \n",
       "4                     1                        2           3          3   \n",
       "\n",
       "   Ward_Facility_Code  Bed_Grade  patientid  City_Code_Patient  \\\n",
       "0                   5        2.0      31397                7.0   \n",
       "1                   5        2.0      31397                7.0   \n",
       "2                   4        2.0      31397                7.0   \n",
       "3                   3        2.0      31397                7.0   \n",
       "4                   3        2.0      31397                7.0   \n",
       "\n",
       "   Type_of_Admission  Severity_of_Illness  Visitors_with_Patient  Age  \\\n",
       "0                  0                    0                      2    5   \n",
       "1                  1                    0                      2    5   \n",
       "2                  1                    0                      2    5   \n",
       "3                  1                    0                      2    5   \n",
       "4                  1                    0                      2    5   \n",
       "\n",
       "   Admission_Deposit  Stay  \n",
       "0             4911.0     0  \n",
       "1             5954.0     4  \n",
       "2             4745.0     3  \n",
       "3             7272.0     4  \n",
       "4             5558.0     4  "
      ]
     },
     "execution_count": 58,
     "metadata": {},
     "output_type": "execute_result"
    }
   ],
   "source": [
    "data_train_o.head()"
   ]
  },
  {
   "cell_type": "code",
   "execution_count": 59,
   "metadata": {
    "collapsed": true
   },
   "outputs": [
    {
     "data": {
      "image/png": "[encoded data removed]",
      "text/plain": [
       "<Figure size 432x288 with 1 Axes>"
      ]
     },
     "metadata": {
      "needs_background": "light"
     },
     "output_type": "display_data"
    }
   ],
   "source": [
    "ssc = sns.boxplot(data= data_train_o[['Available_Rooms_in_Hspl']])"
   ]
  },
  {
   "cell_type": "code",
   "execution_count": 60,
   "metadata": {
    "collapsed": true
   },
   "outputs": [
    {
     "data": {
      "image/png": "[encoded data removed]",
      "text/plain": [
       "<Figure size 432x288 with 1 Axes>"
      ]
     },
     "metadata": {
      "needs_background": "light"
     },
     "output_type": "display_data"
    }
   ],
   "source": [
    "ssc = sns.boxplot(data= data_train_o[['City_Code_Patient']])"
   ]
  },
  {
   "cell_type": "code",
   "execution_count": 61,
   "metadata": {
    "collapsed": true
   },
   "outputs": [
    {
     "data": {
      "image/png": "[encoded data removed]",
      "text/plain": [
       "<Figure size 432x288 with 1 Axes>"
      ]
     },
     "metadata": {
      "needs_background": "light"
     },
     "output_type": "display_data"
    }
   ],
   "source": [
    "ssc = sns.boxplot(data= data_train_o[['Admission_Deposit']])"
   ]
  },
  {
   "cell_type": "code",
   "execution_count": 62,
   "metadata": {
    "collapsed": true
   },
   "outputs": [
    {
     "data": {
      "image/png": "[encoded data removed]",
      "text/plain": [
       "<Figure size 432x288 with 1 Axes>"
      ]
     },
     "metadata": {
      "needs_background": "light"
     },
     "output_type": "display_data"
    }
   ],
   "source": [
    "ssc = sns.boxplot(data= data_train_o[['Visitors_with_Patient']])"
   ]
  },
  {
   "cell_type": "markdown",
   "metadata": {},
   "source": [
    "# Model"
   ]
  },
  {
   "cell_type": "code",
   "execution_count": 63,
   "metadata": {},
   "outputs": [],
   "source": [
    "x_train=data_train_o.drop(['patientid','case_id','Stay'],axis=1)\n",
    "y_train=data_train_o['Stay']"
   ]
  },
  {
   "cell_type": "code",
   "execution_count": 64,
   "metadata": {},
   "outputs": [
    {
     "data": {
      "text/plain": [
       "array(['Hospital_code', 'Hospital_type_code', 'City_Code_Hospital',\n",
       "       'Hospital_region_code', 'Available_Rooms_in_Hspl', 'Department',\n",
       "       'Ward_Type', 'Ward_Facility_Code', 'Bed_Grade',\n",
       "       'City_Code_Patient', 'Type_of_Admission', 'Severity_of_Illness',\n",
       "       'Visitors_with_Patient', 'Age', 'Admission_Deposit'], dtype=object)"
      ]
     },
     "execution_count": 64,
     "metadata": {},
     "output_type": "execute_result"
    }
   ],
   "source": [
    "column_names = x_train.columns.values\n",
    "column_names"
   ]
  },
  {
   "cell_type": "code",
   "execution_count": 65,
   "metadata": {},
   "outputs": [],
   "source": [
    "#Scalizing between 0-1 (Normalization)\n",
    "x_scaled = MinMaxScaler().fit_transform(x_train)"
   ]
  },
  {
   "cell_type": "code",
   "execution_count": 66,
   "metadata": {},
   "outputs": [],
   "source": [
    "from sklearn.linear_model import LogisticRegression"
   ]
  },
  {
   "cell_type": "code",
   "execution_count": 67,
   "metadata": {},
   "outputs": [
    {
     "name": "stderr",
     "output_type": "stream",
     "text": [
      "C:\\Users\\Richa\\anaconda3\\lib\\site-packages\\sklearn\\linear_model\\_logistic.py:940: ConvergenceWarning: lbfgs failed to converge (status=1):\n",
      "STOP: TOTAL NO. of ITERATIONS REACHED LIMIT.\n",
      "\n",
      "Increase the number of iterations (max_iter) or scale the data as shown in:\n",
      "    https://scikit-learn.org/stable/modules/preprocessing.html\n",
      "Please also refer to the documentation for alternative solver options:\n",
      "    https://scikit-learn.org/stable/modules/linear_model.html#logistic-regression\n",
      "  extra_warning_msg=_LOGISTIC_SOLVER_CONVERGENCE_MSG)\n"
     ]
    },
    {
     "data": {
      "text/plain": [
       "LogisticRegression(C=1.0, class_weight=None, dual=False, fit_intercept=True,\n",
       "                   intercept_scaling=1, l1_ratio=None, max_iter=100,\n",
       "                   multi_class='auto', n_jobs=None, penalty='l2',\n",
       "                   random_state=None, solver='lbfgs', tol=0.0001, verbose=0,\n",
       "                   warm_start=False)"
      ]
     },
     "execution_count": 67,
     "metadata": {},
     "output_type": "execute_result"
    }
   ],
   "source": [
    "model= LogisticRegression()\n",
    "model.fit(x_scaled,y_train)"
   ]
  },
  {
   "cell_type": "code",
   "execution_count": 68,
   "metadata": {},
   "outputs": [
    {
     "data": {
      "text/plain": [
       "0.3821907557286293"
      ]
     },
     "execution_count": 68,
     "metadata": {},
     "output_type": "execute_result"
    }
   ],
   "source": [
    "model.score(x_scaled,y_train)"
   ]
  },
  {
   "cell_type": "markdown",
   "metadata": {},
   "source": [
    "# Model with fewer features and good accuracy"
   ]
  },
  {
   "cell_type": "code",
   "execution_count": 69,
   "metadata": {},
   "outputs": [],
   "source": [
    "from sklearn.ensemble import RandomForestClassifier\n",
    "from sklearn.feature_selection import RFE"
   ]
  },
  {
   "cell_type": "code",
   "execution_count": 70,
   "metadata": {},
   "outputs": [
    {
     "name": "stdout",
     "output_type": "stream",
     "text": [
      "[ True False  True False  True False False False  True  True False False\n",
      "  True  True  True]\n"
     ]
    }
   ],
   "source": [
    "model_tree = RandomForestClassifier(random_state=100, n_estimators=50)\n",
    "sel_rfe_tree = RFE(estimator=model_tree, n_features_to_select=8, step=1)\n",
    "X_train_rfe_tree = sel_rfe_tree.fit_transform(x_scaled, y_train)\n",
    "print(sel_rfe_tree.get_support())"
   ]
  },
  {
   "cell_type": "code",
   "execution_count": 71,
   "metadata": {},
   "outputs": [],
   "source": [
    "x_train1=data_train_o[['Hospital_code','City_Code_Hospital','Available_Rooms_in_Hspl','Bed_Grade','City_Code_Patient',\n",
    "                    'Visitors_with_Patient','Age','Admission_Deposit']]\n",
    "y_train1=data_train_o['Stay']"
   ]
  },
  {
   "cell_type": "code",
   "execution_count": 72,
   "metadata": {},
   "outputs": [],
   "source": [
    "#Scalizing between 0-1 (Normalization)\n",
    "x_scaled1 = MinMaxScaler().fit_transform(x_train1)"
   ]
  },
  {
   "cell_type": "code",
   "execution_count": 73,
   "metadata": {},
   "outputs": [
    {
     "name": "stderr",
     "output_type": "stream",
     "text": [
      "C:\\Users\\Richa\\anaconda3\\lib\\site-packages\\sklearn\\linear_model\\_logistic.py:940: ConvergenceWarning: lbfgs failed to converge (status=1):\n",
      "STOP: TOTAL NO. of ITERATIONS REACHED LIMIT.\n",
      "\n",
      "Increase the number of iterations (max_iter) or scale the data as shown in:\n",
      "    https://scikit-learn.org/stable/modules/preprocessing.html\n",
      "Please also refer to the documentation for alternative solver options:\n",
      "    https://scikit-learn.org/stable/modules/linear_model.html#logistic-regression\n",
      "  extra_warning_msg=_LOGISTIC_SOLVER_CONVERGENCE_MSG)\n"
     ]
    },
    {
     "data": {
      "text/plain": [
       "LogisticRegression(C=1.0, class_weight=None, dual=False, fit_intercept=True,\n",
       "                   intercept_scaling=1, l1_ratio=None, max_iter=100,\n",
       "                   multi_class='auto', n_jobs=None, penalty='l2',\n",
       "                   random_state=None, solver='lbfgs', tol=0.0001, verbose=0,\n",
       "                   warm_start=False)"
      ]
     },
     "execution_count": 73,
     "metadata": {},
     "output_type": "execute_result"
    }
   ],
   "source": [
    "model1= LogisticRegression()\n",
    "model1.fit(x_scaled1,y_train1)"
   ]
  },
  {
   "cell_type": "code",
   "execution_count": 74,
   "metadata": {},
   "outputs": [
    {
     "data": {
      "text/plain": [
       "0.36241481524534663"
      ]
     },
     "execution_count": 74,
     "metadata": {},
     "output_type": "execute_result"
    }
   ],
   "source": [
    "model1.score(x_scaled1,y_train1)"
   ]
  },
  {
   "cell_type": "markdown",
   "metadata": {},
   "source": [
    "# Predictions"
   ]
  },
  {
   "cell_type": "code",
   "execution_count": 75,
   "metadata": {},
   "outputs": [
    {
     "data": {
      "text/html": [
       "<div>\n",
       "<style scoped>\n",
       "    .dataframe tbody tr th:only-of-type {\n",
       "        vertical-align: middle;\n",
       "    }\n",
       "\n",
       "    .dataframe tbody tr th {\n",
       "        vertical-align: top;\n",
       "    }\n",
       "\n",
       "    .dataframe thead th {\n",
       "        text-align: right;\n",
       "    }\n",
       "</style>\n",
       "<table border=\"1\" class=\"dataframe\">\n",
       "  <thead>\n",
       "    <tr style=\"text-align: right;\">\n",
       "      <th></th>\n",
       "      <th>Hospital_code</th>\n",
       "      <th>City_Code_Hospital</th>\n",
       "      <th>Available_Rooms_in_Hspl</th>\n",
       "      <th>Bed_Grade</th>\n",
       "      <th>City_Code_Patient</th>\n",
       "      <th>Visitors_with_Patient</th>\n",
       "      <th>Age</th>\n",
       "      <th>Admission_Deposit</th>\n",
       "    </tr>\n",
       "  </thead>\n",
       "  <tbody>\n",
       "    <tr>\n",
       "      <th>0</th>\n",
       "      <td>21</td>\n",
       "      <td>3</td>\n",
       "      <td>3</td>\n",
       "      <td>2.0</td>\n",
       "      <td>2.0</td>\n",
       "      <td>2</td>\n",
       "      <td>6</td>\n",
       "      <td>3095</td>\n",
       "    </tr>\n",
       "    <tr>\n",
       "      <th>1</th>\n",
       "      <td>29</td>\n",
       "      <td>4</td>\n",
       "      <td>2</td>\n",
       "      <td>2.0</td>\n",
       "      <td>2.0</td>\n",
       "      <td>4</td>\n",
       "      <td>6</td>\n",
       "      <td>4018</td>\n",
       "    </tr>\n",
       "    <tr>\n",
       "      <th>2</th>\n",
       "      <td>26</td>\n",
       "      <td>2</td>\n",
       "      <td>3</td>\n",
       "      <td>4.0</td>\n",
       "      <td>2.0</td>\n",
       "      <td>3</td>\n",
       "      <td>6</td>\n",
       "      <td>4492</td>\n",
       "    </tr>\n",
       "    <tr>\n",
       "      <th>3</th>\n",
       "      <td>6</td>\n",
       "      <td>6</td>\n",
       "      <td>3</td>\n",
       "      <td>2.0</td>\n",
       "      <td>2.0</td>\n",
       "      <td>3</td>\n",
       "      <td>6</td>\n",
       "      <td>4173</td>\n",
       "    </tr>\n",
       "    <tr>\n",
       "      <th>4</th>\n",
       "      <td>28</td>\n",
       "      <td>11</td>\n",
       "      <td>2</td>\n",
       "      <td>2.0</td>\n",
       "      <td>2.0</td>\n",
       "      <td>4</td>\n",
       "      <td>6</td>\n",
       "      <td>4161</td>\n",
       "    </tr>\n",
       "  </tbody>\n",
       "</table>\n",
       "</div>"
      ],
      "text/plain": [
       "   Hospital_code  City_Code_Hospital  Available_Rooms_in_Hspl  Bed_Grade  \\\n",
       "0             21                   3                        3        2.0   \n",
       "1             29                   4                        2        2.0   \n",
       "2             26                   2                        3        4.0   \n",
       "3              6                   6                        3        2.0   \n",
       "4             28                  11                        2        2.0   \n",
       "\n",
       "   City_Code_Patient  Visitors_with_Patient  Age  Admission_Deposit  \n",
       "0                2.0                      2    6               3095  \n",
       "1                2.0                      4    6               4018  \n",
       "2                2.0                      3    6               4492  \n",
       "3                2.0                      3    6               4173  \n",
       "4                2.0                      4    6               4161  "
      ]
     },
     "execution_count": 75,
     "metadata": {},
     "output_type": "execute_result"
    }
   ],
   "source": [
    "x_test=data_test[['Hospital_code','City_Code_Hospital','Available_Rooms_in_Hspl','Bed_Grade','City_Code_Patient',\n",
    "                  'Visitors_with_Patient','Age','Admission_Deposit']]\n",
    "x_test.head()"
   ]
  },
  {
   "cell_type": "code",
   "execution_count": 76,
   "metadata": {},
   "outputs": [
    {
     "data": {
      "text/plain": [
       "array([2, 2, 2, ..., 2, 2, 2], dtype=int64)"
      ]
     },
     "execution_count": 76,
     "metadata": {},
     "output_type": "execute_result"
    }
   ],
   "source": [
    "y_pred= model1.predict(x_test)\n",
    "y_pred"
   ]
  },
  {
   "cell_type": "code",
   "execution_count": 77,
   "metadata": {},
   "outputs": [
    {
     "data": {
      "text/html": [
       "<div>\n",
       "<style scoped>\n",
       "    .dataframe tbody tr th:only-of-type {\n",
       "        vertical-align: middle;\n",
       "    }\n",
       "\n",
       "    .dataframe tbody tr th {\n",
       "        vertical-align: top;\n",
       "    }\n",
       "\n",
       "    .dataframe thead th {\n",
       "        text-align: right;\n",
       "    }\n",
       "</style>\n",
       "<table border=\"1\" class=\"dataframe\">\n",
       "  <thead>\n",
       "    <tr style=\"text-align: right;\">\n",
       "      <th></th>\n",
       "      <th>0</th>\n",
       "    </tr>\n",
       "  </thead>\n",
       "  <tbody>\n",
       "    <tr>\n",
       "      <th>0</th>\n",
       "      <td>2</td>\n",
       "    </tr>\n",
       "    <tr>\n",
       "      <th>1</th>\n",
       "      <td>2</td>\n",
       "    </tr>\n",
       "    <tr>\n",
       "      <th>2</th>\n",
       "      <td>2</td>\n",
       "    </tr>\n",
       "    <tr>\n",
       "      <th>3</th>\n",
       "      <td>2</td>\n",
       "    </tr>\n",
       "    <tr>\n",
       "      <th>4</th>\n",
       "      <td>2</td>\n",
       "    </tr>\n",
       "    <tr>\n",
       "      <th>...</th>\n",
       "      <td>...</td>\n",
       "    </tr>\n",
       "    <tr>\n",
       "      <th>137052</th>\n",
       "      <td>2</td>\n",
       "    </tr>\n",
       "    <tr>\n",
       "      <th>137053</th>\n",
       "      <td>2</td>\n",
       "    </tr>\n",
       "    <tr>\n",
       "      <th>137054</th>\n",
       "      <td>2</td>\n",
       "    </tr>\n",
       "    <tr>\n",
       "      <th>137055</th>\n",
       "      <td>2</td>\n",
       "    </tr>\n",
       "    <tr>\n",
       "      <th>137056</th>\n",
       "      <td>2</td>\n",
       "    </tr>\n",
       "  </tbody>\n",
       "</table>\n",
       "<p>137057 rows × 1 columns</p>\n",
       "</div>"
      ],
      "text/plain": [
       "        0\n",
       "0       2\n",
       "1       2\n",
       "2       2\n",
       "3       2\n",
       "4       2\n",
       "...    ..\n",
       "137052  2\n",
       "137053  2\n",
       "137054  2\n",
       "137055  2\n",
       "137056  2\n",
       "\n",
       "[137057 rows x 1 columns]"
      ]
     },
     "execution_count": 77,
     "metadata": {},
     "output_type": "execute_result"
    }
   ],
   "source": [
    "y_pred=pd.DataFrame(data=y_pred)\n",
    "y_pred"
   ]
  },
  {
   "cell_type": "code",
   "execution_count": 78,
   "metadata": {},
   "outputs": [],
   "source": [
    "y_pred.columns=['Stay']"
   ]
  },
  {
   "cell_type": "code",
   "execution_count": 79,
   "metadata": {
    "scrolled": true
   },
   "outputs": [
    {
     "data": {
      "text/html": [
       "<div>\n",
       "<style scoped>\n",
       "    .dataframe tbody tr th:only-of-type {\n",
       "        vertical-align: middle;\n",
       "    }\n",
       "\n",
       "    .dataframe tbody tr th {\n",
       "        vertical-align: top;\n",
       "    }\n",
       "\n",
       "    .dataframe thead th {\n",
       "        text-align: right;\n",
       "    }\n",
       "</style>\n",
       "<table border=\"1\" class=\"dataframe\">\n",
       "  <thead>\n",
       "    <tr style=\"text-align: right;\">\n",
       "      <th></th>\n",
       "      <th>Stay</th>\n",
       "    </tr>\n",
       "  </thead>\n",
       "  <tbody>\n",
       "    <tr>\n",
       "      <th>0</th>\n",
       "      <td>21-30</td>\n",
       "    </tr>\n",
       "    <tr>\n",
       "      <th>1</th>\n",
       "      <td>21-30</td>\n",
       "    </tr>\n",
       "    <tr>\n",
       "      <th>2</th>\n",
       "      <td>21-30</td>\n",
       "    </tr>\n",
       "    <tr>\n",
       "      <th>3</th>\n",
       "      <td>21-30</td>\n",
       "    </tr>\n",
       "    <tr>\n",
       "      <th>4</th>\n",
       "      <td>21-30</td>\n",
       "    </tr>\n",
       "  </tbody>\n",
       "</table>\n",
       "</div>"
      ],
      "text/plain": [
       "    Stay\n",
       "0  21-30\n",
       "1  21-30\n",
       "2  21-30\n",
       "3  21-30\n",
       "4  21-30"
      ]
     },
     "execution_count": 79,
     "metadata": {},
     "output_type": "execute_result"
    }
   ],
   "source": [
    "y_pred.loc[y_pred['Stay']==0, 'Stay']=\"0-10\"\n",
    "y_pred.loc[y_pred['Stay']==1, 'Stay']=\"11-20\"\n",
    "y_pred.loc[y_pred['Stay']==2, 'Stay']=\"21-30\"\n",
    "y_pred.loc[y_pred['Stay']==3, 'Stay']=\"31-40\"\n",
    "y_pred.loc[y_pred['Stay']==4, 'Stay']=\"41-50\"\n",
    "y_pred.loc[y_pred['Stay']==5, 'Stay']=\"51-60\"\n",
    "y_pred.loc[y_pred['Stay']==6, 'Stay']=\"61-70\"\n",
    "y_pred.loc[y_pred['Stay']==7, 'Stay']=\"71-80\"\n",
    "y_pred.loc[y_pred['Stay']==8, 'Stay']=\"81-90\"\n",
    "y_pred.loc[y_pred['Stay']==9, 'Stay']=\"91-100\"\n",
    "y_pred.loc[y_pred['Stay']==10, 'Stay']=\"More than 100 Days\"\n",
    "\n",
    "y_pred.head()"
   ]
  },
  {
   "cell_type": "code",
   "execution_count": 80,
   "metadata": {},
   "outputs": [],
   "source": [
    "sol=pd.DataFrame()"
   ]
  },
  {
   "cell_type": "code",
   "execution_count": 81,
   "metadata": {},
   "outputs": [
    {
     "data": {
      "text/html": [
       "<div>\n",
       "<style scoped>\n",
       "    .dataframe tbody tr th:only-of-type {\n",
       "        vertical-align: middle;\n",
       "    }\n",
       "\n",
       "    .dataframe tbody tr th {\n",
       "        vertical-align: top;\n",
       "    }\n",
       "\n",
       "    .dataframe thead th {\n",
       "        text-align: right;\n",
       "    }\n",
       "</style>\n",
       "<table border=\"1\" class=\"dataframe\">\n",
       "  <thead>\n",
       "    <tr style=\"text-align: right;\">\n",
       "      <th></th>\n",
       "      <th>case_id</th>\n",
       "    </tr>\n",
       "  </thead>\n",
       "  <tbody>\n",
       "    <tr>\n",
       "      <th>0</th>\n",
       "      <td>318439</td>\n",
       "    </tr>\n",
       "    <tr>\n",
       "      <th>1</th>\n",
       "      <td>318440</td>\n",
       "    </tr>\n",
       "    <tr>\n",
       "      <th>2</th>\n",
       "      <td>318441</td>\n",
       "    </tr>\n",
       "    <tr>\n",
       "      <th>3</th>\n",
       "      <td>318442</td>\n",
       "    </tr>\n",
       "    <tr>\n",
       "      <th>4</th>\n",
       "      <td>318443</td>\n",
       "    </tr>\n",
       "  </tbody>\n",
       "</table>\n",
       "</div>"
      ],
      "text/plain": [
       "   case_id\n",
       "0   318439\n",
       "1   318440\n",
       "2   318441\n",
       "3   318442\n",
       "4   318443"
      ]
     },
     "execution_count": 81,
     "metadata": {},
     "output_type": "execute_result"
    }
   ],
   "source": [
    "sol['case_id']= data_test['case_id']\n",
    "sol.head()"
   ]
  },
  {
   "cell_type": "code",
   "execution_count": 82,
   "metadata": {},
   "outputs": [
    {
     "data": {
      "text/html": [
       "<div>\n",
       "<style scoped>\n",
       "    .dataframe tbody tr th:only-of-type {\n",
       "        vertical-align: middle;\n",
       "    }\n",
       "\n",
       "    .dataframe tbody tr th {\n",
       "        vertical-align: top;\n",
       "    }\n",
       "\n",
       "    .dataframe thead th {\n",
       "        text-align: right;\n",
       "    }\n",
       "</style>\n",
       "<table border=\"1\" class=\"dataframe\">\n",
       "  <thead>\n",
       "    <tr style=\"text-align: right;\">\n",
       "      <th></th>\n",
       "      <th>case_id</th>\n",
       "      <th>Stay</th>\n",
       "    </tr>\n",
       "  </thead>\n",
       "  <tbody>\n",
       "    <tr>\n",
       "      <th>0</th>\n",
       "      <td>318439</td>\n",
       "      <td>21-30</td>\n",
       "    </tr>\n",
       "    <tr>\n",
       "      <th>1</th>\n",
       "      <td>318440</td>\n",
       "      <td>21-30</td>\n",
       "    </tr>\n",
       "    <tr>\n",
       "      <th>2</th>\n",
       "      <td>318441</td>\n",
       "      <td>21-30</td>\n",
       "    </tr>\n",
       "    <tr>\n",
       "      <th>3</th>\n",
       "      <td>318442</td>\n",
       "      <td>21-30</td>\n",
       "    </tr>\n",
       "    <tr>\n",
       "      <th>4</th>\n",
       "      <td>318443</td>\n",
       "      <td>21-30</td>\n",
       "    </tr>\n",
       "  </tbody>\n",
       "</table>\n",
       "</div>"
      ],
      "text/plain": [
       "   case_id   Stay\n",
       "0   318439  21-30\n",
       "1   318440  21-30\n",
       "2   318441  21-30\n",
       "3   318442  21-30\n",
       "4   318443  21-30"
      ]
     },
     "execution_count": 82,
     "metadata": {},
     "output_type": "execute_result"
    }
   ],
   "source": [
    "sol['Stay']=y_pred['Stay']\n",
    "sol.head()"
   ]
  },
  {
   "cell_type": "code",
   "execution_count": 83,
   "metadata": {},
   "outputs": [],
   "source": [
    "sol.to_csv('D:/My files/Projects/Hackathon/sol2.csv',index=False)"
   ]
  }
 ],
 "metadata": {
  "kernelspec": {
   "display_name": "Python 3",
   "language": "python",
   "name": "python3"
  },
  "language_info": {
   "codemirror_mode": {
    "name": "ipython",
    "version": 3
   },
   "file_extension": ".py",
   "mimetype": "text/x-python",
   "name": "python",
   "nbconvert_exporter": "python",
   "pygments_lexer": "ipython3",
   "version": "3.7.6"
  }
 },
 "nbformat": 4,
 "nbformat_minor": 4
}
